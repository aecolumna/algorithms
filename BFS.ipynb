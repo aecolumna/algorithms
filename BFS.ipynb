{
 "cells": [
  {
   "cell_type": "code",
   "execution_count": 26,
   "metadata": {
    "collapsed": true
   },
   "outputs": [],
   "source": [
    "class Vertex:\n",
    "    def __init__(self, name=\"\"):\n",
    "        self.level = 0\n",
    "        self.name = name\n",
    "        self.neighbors = []\n",
    "        self.visited = False\n",
    "        \n",
    "    def add_neighbor(self, neighbor):\n",
    "        if neighbor not in self.neighbors:\n",
    "            self.neighbors.append(neighbor)\n",
    "            \n",
    "    def __repr__(self):\n",
    "        return str(self.name)"
   ]
  },
  {
   "cell_type": "code",
   "execution_count": 68,
   "metadata": {},
   "outputs": [
    {
     "data": {
      "text/plain": [
       "[d, g, h]"
      ]
     },
     "execution_count": 68,
     "metadata": {},
     "output_type": "execute_result"
    }
   ],
   "source": [
    "j.neighbors"
   ]
  },
  {
   "cell_type": "code",
   "execution_count": 67,
   "metadata": {
    "collapsed": true
   },
   "outputs": [],
   "source": [
    "a = Vertex(\"a\")\n",
    "b = Vertex(\"b\")\n",
    "c = Vertex(\"c\")\n",
    "d = Vertex(\"d\")\n",
    "e = Vertex(\"e\")\n",
    "f = Vertex(\"f\")\n",
    "g = Vertex(\"g\")\n",
    "h = Vertex(\"h\")\n",
    "ii = Vertex(\"ii\")\n",
    "j = Vertex(\"j\")\n",
    "\n",
    "a.add_neighbor(f)\n",
    "f.add_neighbor(a)\n",
    "b.add_neighbor(g)\n",
    "g.add_neighbor(b)\n",
    "b.add_neighbor(g)\n",
    "g.add_neighbor(b)\n",
    "c.add_neighbor(h)\n",
    "h.add_neighbor(c)\n",
    "c.add_neighbor(ii)\n",
    "ii.add_neighbor(c)\n",
    "d.add_neighbor(j)\n",
    "j.add_neighbor(d)\n",
    "f.add_neighbor(b)\n",
    "b.add_neighbor(f)\n",
    "f.add_neighbor(c)\n",
    "c.add_neighbor(f)\n",
    "g.add_neighbor(e)\n",
    "e.add_neighbor(g)\n",
    "g.add_neighbor(ii)\n",
    "ii.add_neighbor(g)\n",
    "g.add_neighbor(j)\n",
    "j.add_neighbor(g)\n",
    "h.add_neighbor(c)\n",
    "c.add_neighbor(h)\n",
    "h.add_neighbor(g)\n",
    "g.add_neighbor(h)\n",
    "h.add_neighbor(ii)\n",
    "ii.add_neighbor(h)\n",
    "h.add_neighbor(j)\n",
    "j.add_neighbor(h)"
   ]
  },
  {
   "attachments": {
    "image.png": {
     "image/png": "[encoded data removed]"
    }
   },
   "cell_type": "markdown",
   "metadata": {},
   "source": [
    "![image.png](attachment:image.png)"
   ]
  },
  {
   "cell_type": "code",
   "execution_count": 34,
   "metadata": {},
   "outputs": [],
   "source": [
    "from collections import deque"
   ]
  },
  {
   "cell_type": "code",
   "execution_count": 73,
   "metadata": {
    "collapsed": true
   },
   "outputs": [],
   "source": [
    "def bfs(start_vertex):\n",
    "    levels = {start_vertex: 0}\n",
    "    parents = {start_vertex: None}\n",
    "    levels2 = {start_vertex: 0}\n",
    "    \n",
    "    deck = deque()\n",
    "    deck.append(start_vertex)\n",
    "    i = 1\n",
    "    while deck:\n",
    "        v = deck.popleft()\n",
    "        for neighbor in v.neighbors:\n",
    "            if neighbor not in levels:\n",
    "                levels[neighbor] = levels[v] + 1\n",
    "                parents[neighbor] = v # neighbor not in levels imploes neighbor not in parents\n",
    "                deck.append(neighbor)\n",
    "  \n",
    "        \n",
    "    print(\"Levels: \", levels)\n",
    "    print(\"Parents\", parents)"
   ]
  },
  {
   "cell_type": "code",
   "execution_count": 74,
   "metadata": {},
   "outputs": [
    {
     "name": "stdout",
     "output_type": "stream",
     "text": [
      "Levels:  {d: 0, j: 1, g: 2, h: 2, b: 3, e: 3, ii: 3, c: 3, f: 4, a: 5}\n",
      "Parents {d: None, j: d, g: j, h: j, b: g, e: g, ii: g, c: h, f: b, a: f}\n"
     ]
    }
   ],
   "source": [
    "bfs(d)"
   ]
  },
  {
   "cell_type": "code",
   "execution_count": null,
   "metadata": {
    "collapsed": true
   },
   "outputs": [],
   "source": []
  }
 ],
 "metadata": {
  "kernelspec": {
   "display_name": "Python 3",
   "language": "python",
   "name": "python3"
  },
  "language_info": {
   "codemirror_mode": {
    "name": "ipython",
    "version": 3
   },
   "file_extension": ".py",
   "mimetype": "text/x-python",
   "name": "python",
   "nbconvert_exporter": "python",
   "pygments_lexer": "ipython3",
   "version": "3.6.3"
  }
 },
 "nbformat": 4,
 "nbformat_minor": 2
}
