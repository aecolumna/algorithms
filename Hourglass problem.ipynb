{
 "cells": [
  {
   "cell_type": "markdown",
   "metadata": {},
   "source": [
    "Find highest value HourGlass"
   ]
  },
  {
   "cell_type": "code",
   "execution_count": 4,
   "metadata": {},
   "outputs": [],
   "source": [
    "def hourglass(arr , row, col):\n",
    "    total = 0\n",
    "    \n",
    "    total += arr[row][col]\n",
    "    total += arr[row - 1][col] + arr[row - 1][col - 1] + arr[row - 1][col + 1]\n",
    "    total += arr[row + 1][col] + arr[row + 1][col - 1] + arr[row + 1][col + 1]\n",
    "        \n",
    "    return total"
   ]
  },
  {
   "cell_type": "code",
   "execution_count": 17,
   "metadata": {},
   "outputs": [],
   "source": [
    "arr = [[-63, -34, -9, 12],\n",
    "       [-10,   0, 28, 23],\n",
    "       [-27, -11, -2, 10], \n",
    "       [  9,  17, 25, 18]]"
   ]
  },
  {
   "cell_type": "code",
   "execution_count": 27,
   "metadata": {},
   "outputs": [],
   "source": [
    "def f(arr):\n",
    "    \n",
    "    maxVal = float(\"-inf\")\n",
    "    \n",
    "    for i in range(1, len(arr)-1):\n",
    "        for j in range(1, len(arr[0]) - 1):\n",
    "            val = hourglass(arr, i, j)\n",
    "            maxVal = max(maxVal, val)\n",
    "            \n",
    "    return maxVal"
   ]
  },
  {
   "cell_type": "code",
   "execution_count": 28,
   "metadata": {},
   "outputs": [
    {
     "data": {
      "text/plain": [
       "109"
      ]
     },
     "execution_count": 28,
     "metadata": {},
     "output_type": "execute_result"
    }
   ],
   "source": [
    "f(arr)"
   ]
  },
  {
   "cell_type": "code",
   "execution_count": 8,
   "metadata": {},
   "outputs": [
    {
     "data": {
      "text/plain": [
       "-146"
      ]
     },
     "execution_count": 8,
     "metadata": {},
     "output_type": "execute_result"
    }
   ],
   "source": [
    "hourglass(arr, 1,1)"
   ]
  },
  {
   "cell_type": "code",
   "execution_count": 12,
   "metadata": {},
   "outputs": [
    {
     "name": "stdout",
     "output_type": "stream",
     "text": [
      "-146\n",
      "-6\n",
      "58\n",
      "109\n"
     ]
    }
   ],
   "source": [
    "for row in range(1, len(arr) - 1):\n",
    "    for col in range(1, len(arr[0]) - 1):\n",
    "        print(hourglass(arr,row, col))"
   ]
  },
  {
   "cell_type": "code",
   "execution_count": 15,
   "metadata": {},
   "outputs": [
    {
     "name": "stdout",
     "output_type": "stream",
     "text": [
      "-6\n",
      "35\n",
      "102\n",
      "0\n",
      "-123\n",
      "-146\n",
      "-6\n",
      "0\n",
      "30\n",
      "58\n",
      "109\n",
      "0\n",
      "0\n",
      "0\n",
      "0\n",
      "0\n"
     ]
    }
   ],
   "source": [
    "for row in range(len(arr)):\n",
    "    for col in range(len(arr[0])):\n",
    "        print(hourglass(arr,row, col))"
   ]
  },
  {
   "cell_type": "code",
   "execution_count": 16,
   "metadata": {},
   "outputs": [
    {
     "data": {
      "text/plain": [
       "-6"
      ]
     },
     "execution_count": 16,
     "metadata": {},
     "output_type": "execute_result"
    }
   ],
   "source": [
    "hourglass(arr, 0, 0)"
   ]
  },
  {
   "cell_type": "code",
   "execution_count": null,
   "metadata": {},
   "outputs": [],
   "source": []
  }
 ],
 "metadata": {
  "kernelspec": {
   "display_name": "Python 3",
   "language": "python",
   "name": "python3"
  },
  "language_info": {
   "codemirror_mode": {
    "name": "ipython",
    "version": 3
   },
   "file_extension": ".py",
   "mimetype": "text/x-python",
   "name": "python",
   "nbconvert_exporter": "python",
   "pygments_lexer": "ipython3",
   "version": "3.6.5"
  }
 },
 "nbformat": 4,
 "nbformat_minor": 2
}
