{
 "cells": [
  {
   "cell_type": "code",
   "execution_count": 1,
   "metadata": {
    "collapsed": true
   },
   "outputs": [],
   "source": [
    "import random"
   ]
  },
  {
   "cell_type": "code",
   "execution_count": 15,
   "metadata": {},
   "outputs": [
    {
     "name": "stdout",
     "output_type": "stream",
     "text": [
      "[43, 47, 68, 86, 56, 77, 46, 22, 37, 51]\n",
      "[22, 33, 27, 17, 37, 60, 75, 68, 96, 77]\n"
     ]
    }
   ],
   "source": [
    "vec1 = [random.randint(1,100) for i in range(10)]\n",
    "vec2 = [random.randint(1,100) for i in range(10)]\n",
    "print(vec1)\n",
    "print(vec2)"
   ]
  },
  {
   "cell_type": "code",
   "execution_count": 10,
   "metadata": {},
   "outputs": [
    {
     "data": {
      "text/plain": [
       "[78, 59, 65, 15, 82, 8, 81, 83, 46, 6, 84, 42, 46, 90, 94, 55, 28, 26, 3, 49]"
      ]
     },
     "execution_count": 10,
     "metadata": {},
     "output_type": "execute_result"
    }
   ],
   "source": [
    "merge(vec1, vec2)"
   ]
  },
  {
   "cell_type": "code",
   "execution_count": 13,
   "metadata": {},
   "outputs": [
    {
     "data": {
      "text/plain": [
       "[0, 1, 2, 3, 4, 5, 6, 7, 8, 9, 10, 11, 12, 13, 14, 15, 16, 17, 18, 19]"
      ]
     },
     "execution_count": 13,
     "metadata": {},
     "output_type": "execute_result"
    }
   ],
   "source": [
    "v1 = [i for i in range(1,20,2)]\n",
    "v2 = [i for i in range(0, 20, 2)]\n",
    "merge(v1,v2)"
   ]
  },
  {
   "cell_type": "code",
   "execution_count": 9,
   "metadata": {},
   "outputs": [],
   "source": [
    "def mergesort(vec):\n",
    "    \n",
    "    if len(vec) <= 1:\n",
    "        return vec\n",
    "    \n",
    "    middle = len(vec)//2\n",
    "    \n",
    "    left = vec[:middle]\n",
    "    right = vec[middle:]\n",
    "    \n",
    "    left = mergesort(left)\n",
    "    right = mergesort(right)\n",
    "    \n",
    "    return merge(left, right)"
   ]
  },
  {
   "cell_type": "code",
   "execution_count": 10,
   "metadata": {},
   "outputs": [],
   "source": [
    "def merge(arr1, arr2):\n",
    "    arr3 = []\n",
    "    \n",
    "    i = 0 # index counter for arr1\n",
    "    j = 0 #index counter for arr2\n",
    "    k = 0 # \" \" for arr3\n",
    "    \n",
    "    len3 = len(arr1) + len(arr2)\n",
    "    \n",
    "    while(k < len3):\n",
    "        \n",
    "        if i >= len(arr1):\n",
    "            arr3.append(arr2[j])\n",
    "            j += 1\n",
    "            \n",
    "        elif j >= len(arr2):\n",
    "            arr3.append(arr1[i])\n",
    "            i += 1\n",
    "        \n",
    "        #case 1\n",
    "        elif arr1[i] < arr2[j]:\n",
    "            arr3.append(arr1[i])\n",
    "            i += 1\n",
    "        #case 2\n",
    "        elif arr2[j] < arr1[i]:\n",
    "            arr3.append(arr2[j])\n",
    "            j += 1\n",
    "            \n",
    "        k += 1\n",
    "    return arr3"
   ]
  },
  {
   "cell_type": "code",
   "execution_count": 11,
   "metadata": {},
   "outputs": [],
   "source": [
    "arr = [92, 86, 98, 91, 67, 12, 71, 36, 39, 7]"
   ]
  },
  {
   "cell_type": "code",
   "execution_count": 12,
   "metadata": {},
   "outputs": [
    {
     "data": {
      "text/plain": [
       "[7, 12, 36, 39, 67, 71, 86, 91, 92, 98]"
      ]
     },
     "execution_count": 12,
     "metadata": {},
     "output_type": "execute_result"
    }
   ],
   "source": [
    "mergesort(arr)"
   ]
  },
  {
   "cell_type": "code",
   "execution_count": null,
   "metadata": {
    "collapsed": true
   },
   "outputs": [],
   "source": []
  },
  {
   "cell_type": "code",
   "execution_count": null,
   "metadata": {},
   "outputs": [],
   "source": []
  },
  {
   "cell_type": "code",
   "execution_count": null,
   "metadata": {},
   "outputs": [],
   "source": []
  },
  {
   "cell_type": "code",
   "execution_count": null,
   "metadata": {},
   "outputs": [],
   "source": []
  },
  {
   "cell_type": "code",
   "execution_count": null,
   "metadata": {},
   "outputs": [],
   "source": []
  },
  {
   "cell_type": "code",
   "execution_count": null,
   "metadata": {},
   "outputs": [],
   "source": []
  },
  {
   "cell_type": "code",
   "execution_count": null,
   "metadata": {},
   "outputs": [],
   "source": []
  },
  {
   "cell_type": "code",
   "execution_count": null,
   "metadata": {},
   "outputs": [],
   "source": []
  },
  {
   "cell_type": "code",
   "execution_count": null,
   "metadata": {},
   "outputs": [],
   "source": []
  },
  {
   "cell_type": "code",
   "execution_count": null,
   "metadata": {},
   "outputs": [],
   "source": [
    "def msort(start, i, j):\n",
    "    if i == j:\n",
    "        return arr\n",
    "    \n",
    "    mid = (j-i)//2 + i\n",
    "    \n",
    "    left = msort(i, mid)\n",
    "    right = msort(mid, j)\n",
    "    \n",
    "    return merge(left, right)"
   ]
  }
 ],
 "metadata": {
  "kernelspec": {
   "display_name": "Python 3",
   "language": "python",
   "name": "python3"
  },
  "language_info": {
   "codemirror_mode": {
    "name": "ipython",
    "version": 3
   },
   "file_extension": ".py",
   "mimetype": "text/x-python",
   "name": "python",
   "nbconvert_exporter": "python",
   "pygments_lexer": "ipython3",
   "version": "3.6.5"
  }
 },
 "nbformat": 4,
 "nbformat_minor": 2
}
