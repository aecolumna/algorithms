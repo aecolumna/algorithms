{
 "cells": [
  {
   "cell_type": "code",
   "execution_count": 1,
   "metadata": {
    "collapsed": true
   },
   "outputs": [],
   "source": [
    "import random"
   ]
  },
  {
   "cell_type": "code",
   "execution_count": 15,
   "metadata": {},
   "outputs": [
    {
     "name": "stdout",
     "output_type": "stream",
     "text": [
      "[43, 47, 68, 86, 56, 77, 46, 22, 37, 51]\n",
      "[22, 33, 27, 17, 37, 60, 75, 68, 96, 77]\n"
     ]
    }
   ],
   "source": [
    "vec1 = [random.randint(1,100) for i in range(10)]\n",
    "vec2 = [random.randint(1,100) for i in range(10)]\n",
    "print(vec1)\n",
    "print(vec2)"
   ]
  },
  {
   "cell_type": "markdown",
   "metadata": {},
   "source": [
    "def merge(arr1, arr2):\n",
    "    arr3 = []\n",
    "    \n",
    "    i = 0 # index counter for arr1\n",
    "    j = 0 #index counter for arr2\n",
    "    k = 0 # \" \" for arr3\n",
    "    \n",
    "    len3 = len(arr1) + len(arr2)\n",
    "    \n",
    "    while(k < len3):\n",
    "        \n",
    "        if i >= len(arr1):\n",
    "            arr3.append(arr2[j])\n",
    "            j += 1\n",
    "            \n",
    "        elif j >= len(arr2):\n",
    "            arr3.append(arr1[i])\n",
    "            i += 1\n",
    "        \n",
    "        #case 1\n",
    "        elif arr1[i] < arr2[j]:\n",
    "            arr3.append(arr1[i])\n",
    "            i += 1\n",
    "        #case 2\n",
    "        elif arr2[j] < arr1[i]:\n",
    "            arr3.append(arr2[j])\n",
    "            j += 1\n",
    "            \n",
    "        k += 1\n",
    "    return arr3"
   ]
  },
  {
   "cell_type": "code",
   "execution_count": 10,
   "metadata": {},
   "outputs": [
    {
     "data": {
      "text/plain": [
       "[78, 59, 65, 15, 82, 8, 81, 83, 46, 6, 84, 42, 46, 90, 94, 55, 28, 26, 3, 49]"
      ]
     },
     "execution_count": 10,
     "metadata": {},
     "output_type": "execute_result"
    }
   ],
   "source": [
    "merge(vec1, vec2)"
   ]
  },
  {
   "cell_type": "code",
   "execution_count": 13,
   "metadata": {},
   "outputs": [
    {
     "data": {
      "text/plain": [
       "[0, 1, 2, 3, 4, 5, 6, 7, 8, 9, 10, 11, 12, 13, 14, 15, 16, 17, 18, 19]"
      ]
     },
     "execution_count": 13,
     "metadata": {},
     "output_type": "execute_result"
    }
   ],
   "source": [
    "v1 = [i for i in range(1,20,2)]\n",
    "v2 = [i for i in range(0, 20, 2)]\n",
    "merge(v1,v2)"
   ]
  },
  {
   "cell_type": "code",
   "execution_count": 19,
   "metadata": {
    "collapsed": true
   },
   "outputs": [],
   "source": [
    "def msort(vec):\n",
    "    \n",
    "    if len(vec) <= 1:\n",
    "        return vec\n",
    "    \n",
    "    middle = len(vec)//2\n",
    "    \n",
    "    left = vec[:middle]\n",
    "    right = vec[middle:]\n",
    "    \n",
    "    left = msort(left)\n",
    "    right = msort(right)\n",
    "    \n",
    "    return merge(left, right)"
   ]
  },
  {
   "cell_type": "code",
   "execution_count": 16,
   "metadata": {
    "collapsed": true
   },
   "outputs": [],
   "source": [
    "def merge(arr1, arr2):\n",
    "    arr3 = []\n",
    "    \n",
    "    i = 0 # index counter for arr1\n",
    "    j = 0 #index counter for arr2\n",
    "    k = 0 # \" \" for arr3\n",
    "    \n",
    "    len3 = len(arr1) + len(arr2)\n",
    "    \n",
    "    while(k < len3):\n",
    "        \n",
    "        if i >= len(arr1):\n",
    "            arr3.append(arr2[j])\n",
    "            j += 1\n",
    "            \n",
    "        elif j >= len(arr2):\n",
    "            arr3.append(arr1[i])\n",
    "            i += 1\n",
    "        \n",
    "        #case 1\n",
    "        elif arr1[i] < arr2[j]:\n",
    "            arr3.append(arr1[i])\n",
    "            i += 1\n",
    "        #case 2\n",
    "        elif arr2[j] < arr1[i]:\n",
    "            arr3.append(arr2[j])\n",
    "            j += 1\n",
    "            \n",
    "        k += 1\n",
    "    return arr3"
   ]
  },
  {
   "cell_type": "code",
   "execution_count": 20,
   "metadata": {},
   "outputs": [
    {
     "data": {
      "text/plain": [
       "[1, 3, 5, 7, 9, 11, 13, 15, 17, 19]"
      ]
     },
     "execution_count": 20,
     "metadata": {},
     "output_type": "execute_result"
    }
   ],
   "source": [
    "msort(v1)"
   ]
  },
  {
   "cell_type": "code",
   "execution_count": null,
   "metadata": {
    "collapsed": true
   },
   "outputs": [],
   "source": []
  }
 ],
 "metadata": {
  "kernelspec": {
   "display_name": "Python 3",
   "language": "python",
   "name": "python3"
  },
  "language_info": {
   "codemirror_mode": {
    "name": "ipython",
    "version": 3
   },
   "file_extension": ".py",
   "mimetype": "text/x-python",
   "name": "python",
   "nbconvert_exporter": "python",
   "pygments_lexer": "ipython3",
   "version": "3.6.3"
  }
 },
 "nbformat": 4,
 "nbformat_minor": 2
}
