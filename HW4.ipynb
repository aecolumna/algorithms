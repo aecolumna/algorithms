{
 "cells": [
  {
   "cell_type": "markdown",
   "metadata": {},
   "source": [
    "# HW 5\n",
    "\n",
    "by Anjali Munasinghe, Jesse McClay, and Andrés Columna"
   ]
  },
  {
   "cell_type": "markdown",
   "metadata": {},
   "source": [
    "#  Problem 1"
   ]
  },
  {
   "cell_type": "markdown",
   "metadata": {},
   "source": [
    "## Hypothesis\n",
    "\n",
    "CSE 331 professor Sebnem Onsay taught us that insertionSort was more efficient than mergesort for $n < 10$, \n",
    "and for any range of data that was nearly sorted. The CLRS textbook echoes this. This makes sense, as mergesort performs the same number of operations\n",
    "regardless of how partially sorted the array were sorting is, whereas a factor in the time required by insertionsort is the distance an element is from is final destination. So the best case for insertion sort is $O(n)$ when were sorting an already sorted array.\n",
    "\n",
    "Despite this, we imagine the $n < 10$ holds for the most efficient implementation of mergesort, which is harder to code (Our version of insertionsort can't be improved in python at least). The simpler implementation of mergesort we're planning on using obviously still has the same asymptotic complexity as any other version of mergesort, but adds some gnarly linear terms that might show up for small n. This is due to copying of lists (e.g. mergesort(arr[:mid]) instead of just passing parameters i and mid and mid and j when splitting the left half and right half of the arrays.\n",
    "\n",
    "So our guess is that insertionsort will be more efficient than mergesort for $n < 50$. Mergesort will be more efficient for all $n > 50$."
   ]
  },
  {
   "cell_type": "markdown",
   "metadata": {},
   "source": [
    "## Methods"
   ]
  },
  {
   "cell_type": "markdown",
   "metadata": {},
   "source": [
    "The version of python used is cPython 3.6.5 |[GCC 4.2.1 Compatible Clang 4.0.1 on darwin VM\n",
    "\n",
    "My computer is a macbook air w/ 8gb RAM.\n",
    "\n",
    "We used the timeit library from the python standard lib to time the functions. We use randint from the random library to create random arrays of variable length.\n",
    "\n",
    "We create ten random arrays for each length n, ranging from array len=1 to len=300. Then we sum how long it takes each algorithm to sort the ten random arrays, and we divide it by ten to find the mean. To be clear, both algorithms sort the same permutation of a random array. The integer sizes used in the random arrays range from 1 to 1000."
   ]
  },
  {
   "cell_type": "markdown",
   "metadata": {},
   "source": [
    "#### InsertionSort implementation source: homemade"
   ]
  },
  {
   "cell_type": "code",
   "execution_count": 36,
   "metadata": {},
   "outputs": [],
   "source": [
    "def insertionSort(arr):\n",
    "    for i in range(1, len(arr)):\n",
    "        j = i\n",
    "        val = arr[i]\n",
    "        while j > 0 and arr[j - 1] > val:\n",
    "            arr[j] = arr[j - 1]\n",
    "            j -= 1\n",
    "        arr[j] = val   "
   ]
  },
  {
   "cell_type": "markdown",
   "metadata": {},
   "source": [
    "#### InsertionSort test for correctness"
   ]
  },
  {
   "cell_type": "code",
   "execution_count": 37,
   "metadata": {},
   "outputs": [
    {
     "name": "stdout",
     "output_type": "stream",
     "text": [
      "Tests Passed\n"
     ]
    }
   ],
   "source": [
    "def testInsertionSort():\n",
    "    \n",
    "    from random import randint\n",
    "    from copy import deepcopy\n",
    "    \n",
    "    # test for 100 random arrays of random length between 1 and 100\n",
    "    for _ in range(100):\n",
    "        \n",
    "        arr = [randint(1, 100) for i in range(randint(1,100))]\n",
    "        \n",
    "        copyArr = deepcopy(arr)\n",
    "        insertionSort(arr)\n",
    "        \n",
    "        assert(arr == sorted(arr))\n",
    "        \n",
    "    print(\"Tests Passed\")\n",
    "        \n",
    "testInsertionSort()"
   ]
  },
  {
   "cell_type": "markdown",
   "metadata": {},
   "source": [
    "#### mergesort implementation, source: Andrés + merge from Python Heapq library"
   ]
  },
  {
   "cell_type": "code",
   "execution_count": 58,
   "metadata": {},
   "outputs": [],
   "source": [
    "from heapq import merge\n",
    " \n",
    "def mergesort(arr):\n",
    "    length = len(arr)\n",
    "    \n",
    "    if length < 2:\n",
    "        return arr\n",
    " \n",
    "    mid = length // 2\n",
    "    lefthalf = mergesort(arr[:mid])\n",
    "    righthalf = mergesort(arr[mid:])\n",
    " \n",
    "    return list(merge(lefthalf, righthalf))"
   ]
  },
  {
   "cell_type": "markdown",
   "metadata": {},
   "source": [
    "#### test mergesort for correctness"
   ]
  },
  {
   "cell_type": "code",
   "execution_count": 59,
   "metadata": {},
   "outputs": [
    {
     "name": "stdout",
     "output_type": "stream",
     "text": [
      "Mergesort Tests Passed\n"
     ]
    }
   ],
   "source": [
    "def testMergesort():\n",
    "    \n",
    "    from random import randint\n",
    "    from copy import deepcopy\n",
    "    \n",
    "    # test for 100 random arrays of random length between 1 and 100\n",
    "    for _ in range(100):\n",
    "        \n",
    "        arr = [randint(1, 100) for i in range(randint(1,100))]\n",
    "        \n",
    "        copyArr = deepcopy(arr)\n",
    "        \n",
    "        assert(mergesort(arr) == sorted(arr))\n",
    "        \n",
    "    print(\"Mergesort Tests Passed\")\n",
    "        \n",
    "testMergesort()"
   ]
  },
  {
   "cell_type": "markdown",
   "metadata": {},
   "source": [
    "## Time mergesort vs insertion sort"
   ]
  },
  {
   "cell_type": "code",
   "execution_count": 53,
   "metadata": {},
   "outputs": [],
   "source": [
    "from timeit import timeit\n",
    "from random import randint\n",
    "from copy import deepcopy\n",
    "\n",
    "mergesortTimesArr = [] \n",
    "insertTimesArr = []\n",
    "\n",
    "# time sorts from len(arr) == 1 to len(arr) == 100 \n",
    "for arrlen in range(1, 300):\n",
    "    \n",
    "    mergeTimes  = 0\n",
    "    insertTimes = 0\n",
    "    \n",
    " \n",
    "    # takes average of ten runs\n",
    "    for _ in range(10):\n",
    "        arr1 = [randint(1, 1000) for i in range(arrlen)]\n",
    "        arr2 = deepcopy(arr1)\n",
    "        \n",
    "        mergeTimes  += timeit('mergesort(arr1)',     number=1, globals=globals())\n",
    "        insertTimes += timeit('insertionSort(arr2)', number=1, globals=globals())\n",
    "        \n",
    "    meanMergeTime =     mergeTimes  / 10.\n",
    "    meanInsertionTime = insertTimes / 10.\n",
    "    \n",
    "    mergesortTimesArr.append(meanMergeTime)\n",
    "    insertTimesArr.append(meanInsertionTime)\n",
    "    \n",
    "print(mergesortTimesArr, file=open(\"mergeData.txt\", \"a\"))\n",
    "print(insertTimesArr, file=open(\"insertData.txt\", \"a\"))"
   ]
  },
  {
   "cell_type": "markdown",
   "metadata": {},
   "source": [
    "## Results\n",
    "\n",
    "the graph below indicates that mergesort becomes as fast as insertionsort around $n=95$ and clearly overtakes it at around $ n=130 $\n",
    "\n",
    "For $n < 90$, insertionsort is consistently faster than mergesort by tens of microseconds.  For $n > 150$, the $n^2$ time complexity of insertion sort becomes apparent. And the $n \\log{n}$ time complexity of mergsort is noticeably faster.\n",
    "\n",
    "In our The x-axis denotes the length of the array of integers (i.e. n). The y-axis denots the time it takes to sort the array.\n",
    "The data is discrete, so it should be a scatter plot but lines were drawn in between points so as to make it easier to read when lines cross. We used Wolfram Mathematica to graph the data."
   ]
  },
  {
   "cell_type": "markdown",
   "metadata": {},
   "source": [
    "![Image of Yaktocat](https://cdn.pbrd.co/images/HKrGrqb.png)"
   ]
  },
  {
   "cell_type": "markdown",
   "metadata": {},
   "source": [
    "## Conclusions"
   ]
  },
  {
   "cell_type": "markdown",
   "metadata": {},
   "source": [
    "Under the conditions tested, insertion sort produces a faster algorithm for n < 95, while mergesort is faster for n > 130. For n between 95 and 130 the two sorting algorithms are indistinguishable."
   ]
  },
  {
   "cell_type": "markdown",
   "metadata": {},
   "source": [
    "# Problem 2"
   ]
  },
  {
   "cell_type": "code",
   "execution_count": null,
   "metadata": {},
   "outputs": [],
   "source": []
  }
 ],
 "metadata": {
  "kernelspec": {
   "display_name": "Python 3",
   "language": "python",
   "name": "python3"
  },
  "language_info": {
   "codemirror_mode": {
    "name": "ipython",
    "version": 3
   },
   "file_extension": ".py",
   "mimetype": "text/x-python",
   "name": "python",
   "nbconvert_exporter": "python",
   "pygments_lexer": "ipython3",
   "version": "3.6.5"
  }
 },
 "nbformat": 4,
 "nbformat_minor": 2
}
