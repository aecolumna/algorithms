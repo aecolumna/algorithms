{
 "cells": [
  {
   "cell_type": "markdown",
   "metadata": {},
   "source": [
    "## Quicksort with extra space version 1"
   ]
  },
  {
   "cell_type": "code",
   "execution_count": 11,
   "metadata": {},
   "outputs": [],
   "source": [
    "from random import randint\n",
    "\n",
    "def f(arr):\n",
    "    \n",
    "    if len(arr) < 2:\n",
    "        return arr\n",
    "    \n",
    "    less = []\n",
    "    equal = []\n",
    "    greater = []\n",
    "    \n",
    "    p_i = randint(0, len(arr) - 1)\n",
    "    pivot = arr[p_i]\n",
    "\n",
    "    for num in arr:\n",
    "        if num < pivot:\n",
    "            less.append(num)\n",
    "        elif num > pivot:\n",
    "            greater.append(num)\n",
    "        else:\n",
    "            equal.append(num)\n",
    "\n",
    "    left = f(less)\n",
    "    right = f(greater)\n",
    "\n",
    "    return left + equal + right"
   ]
  },
  {
   "cell_type": "code",
   "execution_count": 31,
   "metadata": {},
   "outputs": [],
   "source": [
    "a = [5,4,3,2,1]"
   ]
  },
  {
   "cell_type": "code",
   "execution_count": 85,
   "metadata": {},
   "outputs": [
    {
     "name": "stdout",
     "output_type": "stream",
     "text": [
      "/Users/andres/Desktop/algorithms\r\n"
     ]
    }
   ],
   "source": [
    "!pwd"
   ]
  },
  {
   "cell_type": "markdown",
   "metadata": {},
   "source": [
    "# Succint Quicksort with a lot of extra space"
   ]
  },
  {
   "cell_type": "code",
   "execution_count": 38,
   "metadata": {},
   "outputs": [],
   "source": [
    "def qsort(arr):\n",
    "    \n",
    "    if len(arr) <= 1:\n",
    "        return arr\n",
    "    \n",
    "    p_i = randint(0, len(arr) - 1)\n",
    "    \n",
    "    pivot = arr[p_i]\n",
    "    \n",
    "    left = qsort([i for i in arr if i < pivot])\n",
    "    mid = [i for i in arr if i == pivot]\n",
    "    right = qsort([i for i in arr if i > pivot])\n",
    "\n",
    "    return left + mid + right"
   ]
  },
  {
   "cell_type": "markdown",
   "metadata": {},
   "source": [
    "# Best Quicksort"
   ]
  },
  {
   "cell_type": "code",
   "execution_count": 80,
   "metadata": {},
   "outputs": [],
   "source": [
    "from random import randint\n",
    "\n",
    "def quicksort(arr, start, end):\n",
    "    l = end - start\n",
    "    if l < 2:\n",
    "        return\n",
    "    \n",
    "    \n",
    "    pivot = arr[randint(start, end)]\n",
    "    \n",
    "    start_i = start\n",
    "    end_i = end\n",
    "    \n",
    "    i = start\n",
    "    j = end\n",
    "    \n",
    "    while True:\n",
    "        while arr[i] < pivot:\n",
    "            i += 1\n",
    "        while arr[j] > pivot:\n",
    "            j -= 1\n",
    "            \n",
    "        if i >= j:\n",
    "            break\n",
    "            \n",
    "        arr[i], arr[j] = arr[j], arr[i]\n",
    "         \n",
    "        i += 1\n",
    "        j -= 1\n",
    "        \n",
    "    quicksort(arr, start_i, i)\n",
    "    quicksort(arr, i + i, end_i)"
   ]
  }
 ],
 "metadata": {
  "kernelspec": {
   "display_name": "Python 3",
   "language": "python",
   "name": "python3"
  },
  "language_info": {
   "codemirror_mode": {
    "name": "ipython",
    "version": 3
   },
   "file_extension": ".py",
   "mimetype": "text/x-python",
   "name": "python",
   "nbconvert_exporter": "python",
   "pygments_lexer": "ipython3",
   "version": "3.6.5"
  }
 },
 "nbformat": 4,
 "nbformat_minor": 2
}
