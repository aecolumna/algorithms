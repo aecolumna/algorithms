{
 "cells": [
  {
   "cell_type": "markdown",
   "metadata": {},
   "source": [
    "# Rock,Paper, Scissors"
   ]
  },
  {
   "cell_type": "code",
   "execution_count": 2,
   "metadata": {
    "collapsed": true
   },
   "outputs": [],
   "source": [
    "import random"
   ]
  },
  {
   "cell_type": "code",
   "execution_count": 14,
   "metadata": {},
   "outputs": [
    {
     "data": {
      "text/plain": [
       "2"
      ]
     },
     "execution_count": 14,
     "metadata": {},
     "output_type": "execute_result"
    }
   ],
   "source": [
    "random.choice([1,2,3])"
   ]
  },
  {
   "cell_type": "code",
   "execution_count": null,
   "metadata": {},
   "outputs": [
    {
     "name": "stdout",
     "output_type": "stream",
     "text": [
      "Enter rock, paper, or scissors: paper\n",
      "You Lose!\n",
      "Computer: scissors. Your answer: paper\n",
      "\n",
      "-------------------------------------------------\n"
     ]
    }
   ],
   "source": [
    "while True:\n",
    "    answer = input(\"Enter rock, paper, or scissors: \")\n",
    "    \n",
    "    rmp_list = [\"rock\", \"paper\", \"scissors\"]\n",
    "    acceptable_answers = set(rmp_list)\n",
    "    \n",
    "    if answer == \"0\":\n",
    "        break\n",
    "    elif answer not in acceptable_answers:\n",
    "        print(\"invalid answer\\n\")\n",
    "        continue\n",
    "        \n",
    "    computer_answer = random.choice(rmp_list)\n",
    "    \n",
    "    if answer == computer_answer:\n",
    "        print(\"Tie!\")\n",
    "    \n",
    "    elif answer == \"rock\" and computer_answer == \"scissors\" or answer == \"scissors\" and computer_answer == \"paper\" or answer == \"paper\" and computer_answer == \"rock\" :\n",
    "        print(\"You Win!\")\n",
    "    else:\n",
    "        print(\"You Lose!\")\n",
    "    print(\"Computer: \" + computer_answer + \". Your answer: \" + answer + \"\\n\")\n",
    "    print(\"-------------------------------------------------\")\n",
    "    \n",
    "        \n",
    "     "
   ]
  },
  {
   "cell_type": "code",
   "execution_count": 2,
   "metadata": {},
   "outputs": [
    {
     "name": "stdout",
     "output_type": "stream",
     "text": [
      "Enter nameAndres\n"
     ]
    }
   ],
   "source": [
    "x = input(\"Enter name\")"
   ]
  },
  {
   "cell_type": "code",
   "execution_count": 3,
   "metadata": {},
   "outputs": [
    {
     "data": {
      "text/plain": [
       "'Andres'"
      ]
     },
     "execution_count": 3,
     "metadata": {},
     "output_type": "execute_result"
    }
   ],
   "source": [
    "x"
   ]
  },
  {
   "cell_type": "code",
   "execution_count": 7,
   "metadata": {
    "collapsed": true
   },
   "outputs": [],
   "source": [
    "myset = set([1,2,3])"
   ]
  },
  {
   "cell_type": "code",
   "execution_count": 8,
   "metadata": {},
   "outputs": [
    {
     "data": {
      "text/plain": [
       "True"
      ]
     },
     "execution_count": 8,
     "metadata": {},
     "output_type": "execute_result"
    }
   ],
   "source": [
    "1 in myset"
   ]
  },
  {
   "cell_type": "code",
   "execution_count": null,
   "metadata": {
    "collapsed": true
   },
   "outputs": [],
   "source": []
  }
 ],
 "metadata": {
  "kernelspec": {
   "display_name": "Python 3",
   "language": "python",
   "name": "python3"
  },
  "language_info": {
   "codemirror_mode": {
    "name": "ipython",
    "version": 3
   },
   "file_extension": ".py",
   "mimetype": "text/x-python",
   "name": "python",
   "nbconvert_exporter": "python",
   "pygments_lexer": "ipython3",
   "version": "3.6.3"
  }
 },
 "nbformat": 4,
 "nbformat_minor": 2
}
