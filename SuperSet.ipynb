{
 "cells": [
  {
   "cell_type": "markdown",
   "metadata": {},
   "source": [
    "To halt program abruptly, throw an error. Catch it on the outside, and return the value!"
   ]
  },
  {
   "cell_type": "code",
   "execution_count": 46,
   "metadata": {},
   "outputs": [],
   "source": [
    "from itertools import *\n",
    "def powerset(iterable):\n",
    "    \"powerset([1,2,3]) --> () (1,) (2,) (3,) (1,2) (1,3) (2,3) (1,2,3)\"\n",
    "    s = list(iterable)\n",
    "    return chain.from_iterable(combinations(s, r) for r in range(len(s)+1))"
   ]
  },
  {
   "cell_type": "code",
   "execution_count": 51,
   "metadata": {},
   "outputs": [],
   "source": [
    "from random import randint"
   ]
  },
  {
   "cell_type": "code",
   "execution_count": 55,
   "metadata": {},
   "outputs": [
    {
     "name": "stdout",
     "output_type": "stream",
     "text": [
      "66.8 µs ± 8.18 µs per loop (mean ± std. dev. of 7 runs, 10 loops each)\n"
     ]
    }
   ],
   "source": [
    "%%timeit -n10 arr = [randint(1,100) for i in range(10)]\n",
    "\n",
    "list(powerset(arr))"
   ]
  },
  {
   "cell_type": "code",
   "execution_count": null,
   "metadata": {},
   "outputs": [],
   "source": [
    "%%timeit -n10 arr = [randint(1,100) for i in range(10)]\n",
    "\n",
    "list(powerset(arr))"
   ]
  },
  {
   "cell_type": "code",
   "execution_count": 50,
   "metadata": {},
   "outputs": [],
   "source": [
    "%%timeit arr = [randint(1,100) for i in range(10)]\n",
    "\n",
    "powerset(arr)"
   ]
  },
  {
   "cell_type": "code",
   "execution_count": 48,
   "metadata": {},
   "outputs": [
    {
     "data": {
      "text/plain": [
       "[(),\n",
       " (1,),\n",
       " (2,),\n",
       " (3,),\n",
       " (4,),\n",
       " (1, 2),\n",
       " (1, 3),\n",
       " (1, 4),\n",
       " (2, 3),\n",
       " (2, 4),\n",
       " (3, 4),\n",
       " (1, 2, 3),\n",
       " (1, 2, 4),\n",
       " (1, 3, 4),\n",
       " (2, 3, 4),\n",
       " (1, 2, 3, 4)]"
      ]
     },
     "execution_count": 48,
     "metadata": {},
     "output_type": "execute_result"
    }
   ],
   "source": [
    "%%\n",
    "\n",
    "list(powerset([1,2,3,4]))"
   ]
  },
  {
   "cell_type": "code",
   "execution_count": 65,
   "metadata": {},
   "outputs": [],
   "source": [
    "def helper(given_array,subset=9, i=0):\n",
    "    if subset == 9:\n",
    "        subset = [None] * len(given_array)\n",
    "\n",
    "    if i == len(given_array):\n",
    "        lst = [i for i in subset if i]\n",
    "        yield lst\n",
    "\n",
    "    else:\n",
    "        subset[i] = None\n",
    "        helper(given_array,subset, i + 1)\n",
    "        subset[i] = given_array[i]\n",
    "        helper(given_array, subset, i + 1)"
   ]
  },
  {
   "cell_type": "code",
   "execution_count": 66,
   "metadata": {},
   "outputs": [],
   "source": [
    "for i in helper([1,2,3,4]):\n",
    "    print(i)"
   ]
  },
  {
   "cell_type": "code",
   "execution_count": 56,
   "metadata": {},
   "outputs": [],
   "source": [
    "def all_subsets(given_array):\n",
    "    subset = [None] * len(given_array)\n",
    "\n",
    "    def helper(given_array,subset=9, i=0):\n",
    "        if subset == 9:\n",
    "            subset = [None] * len(given_array)\n",
    "            \n",
    "        if i == len(given_array):\n",
    "            yield [i for i in subset if i]\n",
    "        \n",
    "        else:\n",
    "            subset[i] = None\n",
    "            helper(given_array,subset, i + 1)\n",
    "            subset[i] = given_array[i]\n",
    "            helper(given_array, subset, i + 1)\n",
    "\n"
   ]
  },
  {
   "cell_type": "code",
   "execution_count": 58,
   "metadata": {},
   "outputs": [
    {
     "data": {
      "text/plain": [
       "False"
      ]
     },
     "execution_count": 58,
     "metadata": {},
     "output_type": "execute_result"
    }
   ],
   "source": [
    "[] == 9"
   ]
  },
  {
   "cell_type": "code",
   "execution_count": 43,
   "metadata": {},
   "outputs": [
    {
     "name": "stdout",
     "output_type": "stream",
     "text": [
      "[1, 2, 3, 4]\n",
      "[1, 2, 3]\n",
      "[1, 2, 4]\n",
      "[1, 2]\n",
      "[1, 3, 4]\n",
      "[1, 3]\n",
      "[1, 4]\n",
      "[1]\n",
      "[2, 3, 4]\n",
      "[2, 3]\n",
      "[2, 4]\n",
      "[2]\n",
      "[3, 4]\n",
      "[3]\n",
      "[4]\n",
      "[]\n"
     ]
    }
   ],
   "source": [
    "def all_subsets(given_array):\n",
    "    subset = [None] * len(given_array)\n",
    "\n",
    "\n",
    "    def helper(subset, i):\n",
    "        if i == len(given_array):\n",
    "            print([i for i in subset if i])\n",
    "            return\n",
    "\n",
    "        subset[i] = given_array[i]\n",
    "        helper(subset, i + 1)\n",
    "        subset[i] = None\n",
    "        helper(subset, i + 1)\n",
    "\n",
    "    helper(subset, 0)\n",
    "    \n",
    "all_subsets([1,2,3,4])"
   ]
  },
  {
   "cell_type": "code",
   "execution_count": 38,
   "metadata": {},
   "outputs": [
    {
     "name": "stdout",
     "output_type": "stream",
     "text": [
      "[None, None, None, None]\n",
      "[None, None, None, 4]\n",
      "[None, None, 3, None]\n",
      "[None, None, 3, 4]\n",
      "[None, 2, None, None]\n",
      "[None, 2, None, 4]\n",
      "[None, 2, 3, None]\n",
      "[None, 2, 3, 4]\n",
      "[1, None, None, None]\n",
      "[1, None, None, 4]\n",
      "[1, None, 3, None]\n",
      "[1, None, 3, 4]\n",
      "[1, 2, None, None]\n",
      "[1, 2, None, 4]\n",
      "[1, 2, 3, None]\n",
      "[1, 2, 3, 4]\n"
     ]
    }
   ],
   "source": [
    "def all_subsets(given_array):\n",
    "    subset = [None] * len(given_array)\n",
    "\n",
    "    def helper(subset, i):\n",
    "        if i == len(given_array):\n",
    "            print((i in subset if i))\n",
    "            return\n",
    "\n",
    "        subset[i] = None\n",
    "        helper(subset, i + 1)\n",
    "        subset[i] = given_array[i]\n",
    "        helper(subset, i + 1)\n",
    "\n",
    "    helper(subset, 0)\n",
    "\n",
    "all_subsets([1,2,3,4])"
   ]
  },
  {
   "cell_type": "code",
   "execution_count": 1,
   "metadata": {},
   "outputs": [],
   "source": [
    "def all_subsets(candidates_arr):\n",
    "    subset = [None] * len(candidates_arr)\n",
    "\n",
    "\n",
    "    def helper(subset, i):\n",
    "        if i == len(candidates_arr):\n",
    "            return [i in subset if i] # maybe yield here a subset of candidates\n",
    "\n",
    "        \n",
    "        subset[i] = given_array[i]\n",
    "        helper(subset, i + 1)\n",
    "        \n",
    "        subset[i] = None\n",
    "        helper(subset, i + 1)\n",
    "        \n",
    "        \n",
    "    helper(subset, 0)\n",
    "\n",
    "all_subsets([1,2,3,4])"
   ]
  },
  {
   "cell_type": "code",
   "execution_count": 2,
   "metadata": {},
   "outputs": [
    {
     "data": {
      "text/plain": [
       "[25, 10, 5, 1]"
      ]
     },
     "execution_count": 2,
     "metadata": {},
     "output_type": "execute_result"
    }
   ],
   "source": [
    "arr"
   ]
  },
  {
   "cell_type": "code",
   "execution_count": 7,
   "metadata": {},
   "outputs": [
    {
     "name": "stdout",
     "output_type": "stream",
     "text": [
      "0\n",
      "0\n",
      "0\n",
      "0\n",
      "1\n",
      "5\n",
      "5\n",
      "6\n",
      "10\n",
      "10\n",
      "10\n",
      "11\n",
      "15\n",
      "15\n",
      "16\n",
      "25\n",
      "25\n",
      "25\n",
      "25\n",
      "26\n",
      "30\n",
      "30\n",
      "31\n",
      "35\n",
      "35\n",
      "35\n",
      "36\n",
      "40\n",
      "40\n",
      "41\n"
     ]
    }
   ],
   "source": [
    "arr = [25, 10, 5, 1]\n",
    "memo = {}\n",
    "#outputs sum of all combination\n",
    "def func(index, summation = 0):\n",
    "    \n",
    "    if index >= len(arr):\n",
    "        return 0\n",
    "    \n",
    "    print(summation)\n",
    "    func(index + 1, summation)\n",
    "    summation += arr[index]\n",
    "    print(summation)\n",
    "    func(index + 1, summation)\n",
    "    \n",
    "func(0, 0)"
   ]
  },
  {
   "cell_type": "code",
   "execution_count": 3,
   "metadata": {},
   "outputs": [
    {
     "data": {
      "text/plain": [
       "(25, 10, 5, 1)"
      ]
     },
     "execution_count": 3,
     "metadata": {},
     "output_type": "execute_result"
    }
   ],
   "source": [
    "tuple(arr)"
   ]
  },
  {
   "cell_type": "code",
   "execution_count": 1,
   "metadata": {},
   "outputs": [],
   "source": [
    "from itertools import permutations"
   ]
  },
  {
   "cell_type": "code",
   "execution_count": 4,
   "metadata": {},
   "outputs": [
    {
     "data": {
      "text/plain": [
       "[(1, 2, 5, 6, 4),\n",
       " (1, 2, 5, 4, 6),\n",
       " (1, 2, 6, 5, 4),\n",
       " (1, 2, 6, 4, 5),\n",
       " (1, 2, 4, 5, 6),\n",
       " (1, 2, 4, 6, 5),\n",
       " (1, 5, 2, 6, 4),\n",
       " (1, 5, 2, 4, 6),\n",
       " (1, 5, 6, 2, 4),\n",
       " (1, 5, 6, 4, 2),\n",
       " (1, 5, 4, 2, 6),\n",
       " (1, 5, 4, 6, 2),\n",
       " (1, 6, 2, 5, 4),\n",
       " (1, 6, 2, 4, 5),\n",
       " (1, 6, 5, 2, 4),\n",
       " (1, 6, 5, 4, 2),\n",
       " (1, 6, 4, 2, 5),\n",
       " (1, 6, 4, 5, 2),\n",
       " (1, 4, 2, 5, 6),\n",
       " (1, 4, 2, 6, 5),\n",
       " (1, 4, 5, 2, 6),\n",
       " (1, 4, 5, 6, 2),\n",
       " (1, 4, 6, 2, 5),\n",
       " (1, 4, 6, 5, 2),\n",
       " (2, 1, 5, 6, 4),\n",
       " (2, 1, 5, 4, 6),\n",
       " (2, 1, 6, 5, 4),\n",
       " (2, 1, 6, 4, 5),\n",
       " (2, 1, 4, 5, 6),\n",
       " (2, 1, 4, 6, 5),\n",
       " (2, 5, 1, 6, 4),\n",
       " (2, 5, 1, 4, 6),\n",
       " (2, 5, 6, 1, 4),\n",
       " (2, 5, 6, 4, 1),\n",
       " (2, 5, 4, 1, 6),\n",
       " (2, 5, 4, 6, 1),\n",
       " (2, 6, 1, 5, 4),\n",
       " (2, 6, 1, 4, 5),\n",
       " (2, 6, 5, 1, 4),\n",
       " (2, 6, 5, 4, 1),\n",
       " (2, 6, 4, 1, 5),\n",
       " (2, 6, 4, 5, 1),\n",
       " (2, 4, 1, 5, 6),\n",
       " (2, 4, 1, 6, 5),\n",
       " (2, 4, 5, 1, 6),\n",
       " (2, 4, 5, 6, 1),\n",
       " (2, 4, 6, 1, 5),\n",
       " (2, 4, 6, 5, 1),\n",
       " (5, 1, 2, 6, 4),\n",
       " (5, 1, 2, 4, 6),\n",
       " (5, 1, 6, 2, 4),\n",
       " (5, 1, 6, 4, 2),\n",
       " (5, 1, 4, 2, 6),\n",
       " (5, 1, 4, 6, 2),\n",
       " (5, 2, 1, 6, 4),\n",
       " (5, 2, 1, 4, 6),\n",
       " (5, 2, 6, 1, 4),\n",
       " (5, 2, 6, 4, 1),\n",
       " (5, 2, 4, 1, 6),\n",
       " (5, 2, 4, 6, 1),\n",
       " (5, 6, 1, 2, 4),\n",
       " (5, 6, 1, 4, 2),\n",
       " (5, 6, 2, 1, 4),\n",
       " (5, 6, 2, 4, 1),\n",
       " (5, 6, 4, 1, 2),\n",
       " (5, 6, 4, 2, 1),\n",
       " (5, 4, 1, 2, 6),\n",
       " (5, 4, 1, 6, 2),\n",
       " (5, 4, 2, 1, 6),\n",
       " (5, 4, 2, 6, 1),\n",
       " (5, 4, 6, 1, 2),\n",
       " (5, 4, 6, 2, 1),\n",
       " (6, 1, 2, 5, 4),\n",
       " (6, 1, 2, 4, 5),\n",
       " (6, 1, 5, 2, 4),\n",
       " (6, 1, 5, 4, 2),\n",
       " (6, 1, 4, 2, 5),\n",
       " (6, 1, 4, 5, 2),\n",
       " (6, 2, 1, 5, 4),\n",
       " (6, 2, 1, 4, 5),\n",
       " (6, 2, 5, 1, 4),\n",
       " (6, 2, 5, 4, 1),\n",
       " (6, 2, 4, 1, 5),\n",
       " (6, 2, 4, 5, 1),\n",
       " (6, 5, 1, 2, 4),\n",
       " (6, 5, 1, 4, 2),\n",
       " (6, 5, 2, 1, 4),\n",
       " (6, 5, 2, 4, 1),\n",
       " (6, 5, 4, 1, 2),\n",
       " (6, 5, 4, 2, 1),\n",
       " (6, 4, 1, 2, 5),\n",
       " (6, 4, 1, 5, 2),\n",
       " (6, 4, 2, 1, 5),\n",
       " (6, 4, 2, 5, 1),\n",
       " (6, 4, 5, 1, 2),\n",
       " (6, 4, 5, 2, 1),\n",
       " (4, 1, 2, 5, 6),\n",
       " (4, 1, 2, 6, 5),\n",
       " (4, 1, 5, 2, 6),\n",
       " (4, 1, 5, 6, 2),\n",
       " (4, 1, 6, 2, 5),\n",
       " (4, 1, 6, 5, 2),\n",
       " (4, 2, 1, 5, 6),\n",
       " (4, 2, 1, 6, 5),\n",
       " (4, 2, 5, 1, 6),\n",
       " (4, 2, 5, 6, 1),\n",
       " (4, 2, 6, 1, 5),\n",
       " (4, 2, 6, 5, 1),\n",
       " (4, 5, 1, 2, 6),\n",
       " (4, 5, 1, 6, 2),\n",
       " (4, 5, 2, 1, 6),\n",
       " (4, 5, 2, 6, 1),\n",
       " (4, 5, 6, 1, 2),\n",
       " (4, 5, 6, 2, 1),\n",
       " (4, 6, 1, 2, 5),\n",
       " (4, 6, 1, 5, 2),\n",
       " (4, 6, 2, 1, 5),\n",
       " (4, 6, 2, 5, 1),\n",
       " (4, 6, 5, 1, 2),\n",
       " (4, 6, 5, 2, 1)]"
      ]
     },
     "execution_count": 4,
     "metadata": {},
     "output_type": "execute_result"
    }
   ],
   "source": []
  },
  {
   "cell_type": "code",
   "execution_count": 6,
   "metadata": {},
   "outputs": [
    {
     "data": {
      "text/plain": [
       "0"
      ]
     },
     "execution_count": 6,
     "metadata": {},
     "output_type": "execute_result"
    }
   ],
   "source": [
    "count = 0\n",
    "target = 2\n",
    "for lst in permutations((1, 2, 3, 4)):\n",
    "    if sum(lst) == target:\n",
    "        count += 1\n",
    "count"
   ]
  },
  {
   "cell_type": "code",
   "execution_count": 5,
   "metadata": {},
   "outputs": [],
   "source": [
    "a = [1,2,3]\n",
    "b = deepcopy(a)"
   ]
  },
  {
   "cell_type": "code",
   "execution_count": 6,
   "metadata": {},
   "outputs": [
    {
     "data": {
      "text/plain": [
       "[1, 2, 3]"
      ]
     },
     "execution_count": 6,
     "metadata": {},
     "output_type": "execute_result"
    }
   ],
   "source": [
    "b"
   ]
  },
  {
   "cell_type": "code",
   "execution_count": null,
   "metadata": {},
   "outputs": [],
   "source": []
  },
  {
   "cell_type": "code",
   "execution_count": 4,
   "metadata": {},
   "outputs": [],
   "source": [
    "deepcopy??"
   ]
  },
  {
   "cell_type": "code",
   "execution_count": 2,
   "metadata": {},
   "outputs": [],
   "source": [
    "from copy import deepcopy"
   ]
  },
  {
   "cell_type": "code",
   "execution_count": 21,
   "metadata": {},
   "outputs": [],
   "source": [
    "nums = [\"1\", \"2\"]\n",
    "\n",
    "# index=0, arr=[] by default\n",
    "def f(index, arr):\n",
    "    \n",
    "    if index >= len(nums):\n",
    "        return\n",
    "    \n",
    "    print(arr)\n",
    "\n",
    "    f(index + 1, arr)\n",
    "    a2 = deepcopy(arr)\n",
    "    f(index + 1, a2)"
   ]
  },
  {
   "cell_type": "code",
   "execution_count": 22,
   "metadata": {},
   "outputs": [
    {
     "name": "stdout",
     "output_type": "stream",
     "text": [
      "[]\n",
      "[]\n",
      "[]\n"
     ]
    }
   ],
   "source": [
    "f(0, myarr)"
   ]
  },
  {
   "cell_type": "code",
   "execution_count": 25,
   "metadata": {},
   "outputs": [
    {
     "name": "stdout",
     "output_type": "stream",
     "text": [
      "[]\n",
      "[4]\n",
      "[4, 3]\n",
      "[4, 3, 4]\n",
      "[4, 3, 4, 2]\n",
      "[4, 3, 4, 2, 4]\n",
      "[4, 3, 4, 2, 4, 3]\n",
      "[4, 3, 4, 2, 4, 3, 4]\n",
      "[4, 3, 4, 2, 4, 3, 4, 1]\n",
      "[4, 3, 4, 2, 4, 3, 4, 1, 4]\n",
      "[4, 3, 4, 2, 4, 3, 4, 1, 4, 3]\n",
      "[4, 3, 4, 2, 4, 3, 4, 1, 4, 3, 4]\n",
      "[4, 3, 4, 2, 4, 3, 4, 1, 4, 3, 4, 2]\n",
      "[4, 3, 4, 2, 4, 3, 4, 1, 4, 3, 4, 2, 4]\n",
      "[4, 3, 4, 2, 4, 3, 4, 1, 4, 3, 4, 2, 4, 3]\n",
      "[4, 3, 4, 2, 4, 3, 4, 1, 4, 3, 4, 2, 4, 3, 4]\n"
     ]
    }
   ],
   "source": [
    "from copy import deepcopy\n",
    "\n",
    "nums = [1, 2,3,4]\n",
    "\n",
    "\n",
    "# index=0, arr=[] by default\n",
    "def f(index, arr):\n",
    "    if index >= len(nums):\n",
    "        print(arr)\n",
    "        return\n",
    "\n",
    "\n",
    "    \n",
    "    f(index + 1, arr)\n",
    "    arr.append(nums[index])\n",
    "    f(index + 1, arr)\n",
    "\n",
    "\n",
    "\n",
    "myarr = []\n",
    "f(0, myarr)"
   ]
  },
  {
   "cell_type": "code",
   "execution_count": 28,
   "metadata": {},
   "outputs": [
    {
     "name": "stdout",
     "output_type": "stream",
     "text": [
      "[1, 2, 3, 4]\n",
      "[1, 2, 3]\n",
      "[1, 2, 4]\n",
      "[1, 2]\n",
      "[1, 3, 4]\n",
      "[1, 3]\n",
      "[1, 4]\n",
      "[1]\n",
      "[2, 3, 4]\n",
      "[2, 3]\n",
      "[2, 4]\n",
      "[2]\n",
      "[3, 4]\n",
      "[3]\n",
      "[4]\n",
      "[]\n"
     ]
    }
   ],
   "source": [
    "from copy import deepcopy\n",
    "\n",
    "nums = [1, 2,3,4]\n",
    "\n",
    "\n",
    "# index=0, arr=[] by default\n",
    "def f(index, arr):\n",
    "    if index >= len(nums):\n",
    "        print([i for i in arr if i])\n",
    "        return\n",
    "\n",
    "    arr[index] = nums[index]\n",
    "    f(index + 1, arr)\n",
    "    arr[index] = None\n",
    "    f(index + 1, arr)\n",
    "\n",
    "myarr = [None] * len(nums)\n",
    "f(0, myarr)\n"
   ]
  },
  {
   "cell_type": "code",
   "execution_count": 29,
   "metadata": {},
   "outputs": [],
   "source": [
    "from collections import deque"
   ]
  },
  {
   "cell_type": "code",
   "execution_count": 34,
   "metadata": {},
   "outputs": [
    {
     "data": {
      "text/plain": [
       "deque(['a', 'n', 'd', 'r', 'e', 's'])"
      ]
     },
     "execution_count": 34,
     "metadata": {},
     "output_type": "execute_result"
    }
   ],
   "source": [
    "string = \"andres\"\n",
    "deck = deque([char for char in string])\n",
    "deck"
   ]
  },
  {
   "cell_type": "code",
   "execution_count": 35,
   "metadata": {},
   "outputs": [
    {
     "data": {
      "text/plain": [
       "deque(['a', 'b', 'n', 'd', 'r', 'e', 's'])"
      ]
     },
     "execution_count": 35,
     "metadata": {},
     "output_type": "execute_result"
    }
   ],
   "source": [
    "deck.insert(1, \"b\")\n",
    "deck"
   ]
  },
  {
   "cell_type": "code",
   "execution_count": 37,
   "metadata": {},
   "outputs": [],
   "source": [
    "list."
   ]
  },
  {
   "cell_type": "code",
   "execution_count": null,
   "metadata": {},
   "outputs": [],
   "source": [
    "string = \"Andres\"\n",
    "\n",
    "def permute(strDeck, chosenDeck, index):\n",
    "    if index <= 0:\n",
    "        print(chosen):\n",
    "            \n",
    "    for i in reversed(range(len(strDeck))):\n",
    "        char = strDeck[i]\n",
    "\n"
   ]
  },
  {
   "cell_type": "code",
   "execution_count": 2,
   "metadata": {},
   "outputs": [],
   "source": [
    "from itertools import chain"
   ]
  },
  {
   "cell_type": "code",
   "execution_count": 4,
   "metadata": {},
   "outputs": [
    {
     "data": {
      "text/plain": [
       "['A', 'B', 'C', 'D', 'E', 'F']"
      ]
     },
     "execution_count": 4,
     "metadata": {},
     "output_type": "execute_result"
    }
   ],
   "source": [
    "list(chain.from_iterable(['ABC', 'DEF']))"
   ]
  },
  {
   "cell_type": "code",
   "execution_count": 5,
   "metadata": {},
   "outputs": [],
   "source": [
    "a = set([1,2,3])\n",
    "b = set([3,4,5])"
   ]
  },
  {
   "cell_type": "code",
   "execution_count": 9,
   "metadata": {},
   "outputs": [
    {
     "data": {
      "text/plain": [
       "{1, 2, 3, 4, 5}"
      ]
     },
     "execution_count": 9,
     "metadata": {},
     "output_type": "execute_result"
    }
   ],
   "source": [
    "set(chain.from_iterable((a, b)))"
   ]
  },
  {
   "cell_type": "code",
   "execution_count": 1,
   "metadata": {},
   "outputs": [],
   "source": [
    "def Powerset(s):\n",
    "    return from_iter(combinations(s, r) for r in range(len(s)+1))"
   ]
  },
  {
   "cell_type": "code",
   "execution_count": null,
   "metadata": {},
   "outputs": [],
   "source": [
    "from itertools "
   ]
  },
  {
   "cell_type": "code",
   "execution_count": 2,
   "metadata": {},
   "outputs": [
    {
     "ename": "NameError",
     "evalue": "name 'from_iter' is not defined",
     "output_type": "error",
     "traceback": [
      "\u001b[0;31m---------------------------------------------------------------------------\u001b[0m",
      "\u001b[0;31mNameError\u001b[0m                                 Traceback (most recent call last)",
      "\u001b[0;32m<ipython-input-2-943a949e3fa3>\u001b[0m in \u001b[0;36m<module>\u001b[0;34m()\u001b[0m\n\u001b[0;32m----> 1\u001b[0;31m \u001b[0;32mfor\u001b[0m \u001b[0mi\u001b[0m \u001b[0;32min\u001b[0m \u001b[0mPowerset\u001b[0m\u001b[0;34m(\u001b[0m\u001b[0;34m[\u001b[0m\u001b[0;36m1\u001b[0m\u001b[0;34m,\u001b[0m\u001b[0;36m2\u001b[0m\u001b[0;34m,\u001b[0m\u001b[0;36m3\u001b[0m\u001b[0;34m,\u001b[0m\u001b[0;36m4\u001b[0m\u001b[0;34m,\u001b[0m\u001b[0;36m5\u001b[0m\u001b[0;34m]\u001b[0m\u001b[0;34m)\u001b[0m\u001b[0;34m:\u001b[0m\u001b[0;34m\u001b[0m\u001b[0m\n\u001b[0m\u001b[1;32m      2\u001b[0m     \u001b[0mprint\u001b[0m\u001b[0;34m(\u001b[0m\u001b[0mi\u001b[0m\u001b[0;34m)\u001b[0m\u001b[0;34m\u001b[0m\u001b[0m\n",
      "\u001b[0;32m<ipython-input-1-d200ba37352a>\u001b[0m in \u001b[0;36mPowerset\u001b[0;34m(s)\u001b[0m\n\u001b[1;32m      1\u001b[0m \u001b[0;32mdef\u001b[0m \u001b[0mPowerset\u001b[0m\u001b[0;34m(\u001b[0m\u001b[0ms\u001b[0m\u001b[0;34m)\u001b[0m\u001b[0;34m:\u001b[0m\u001b[0;34m\u001b[0m\u001b[0m\n\u001b[0;32m----> 2\u001b[0;31m     \u001b[0;32mreturn\u001b[0m \u001b[0mfrom_iter\u001b[0m\u001b[0;34m(\u001b[0m\u001b[0mcombinations\u001b[0m\u001b[0;34m(\u001b[0m\u001b[0ms\u001b[0m\u001b[0;34m,\u001b[0m \u001b[0mr\u001b[0m\u001b[0;34m)\u001b[0m \u001b[0;32mfor\u001b[0m \u001b[0mr\u001b[0m \u001b[0;32min\u001b[0m \u001b[0mrange\u001b[0m\u001b[0;34m(\u001b[0m\u001b[0mlen\u001b[0m\u001b[0;34m(\u001b[0m\u001b[0ms\u001b[0m\u001b[0;34m)\u001b[0m\u001b[0;34m+\u001b[0m\u001b[0;36m1\u001b[0m\u001b[0;34m)\u001b[0m\u001b[0;34m)\u001b[0m\u001b[0;34m\u001b[0m\u001b[0m\n\u001b[0m",
      "\u001b[0;31mNameError\u001b[0m: name 'from_iter' is not defined"
     ]
    }
   ],
   "source": [
    "for i in Powerset([1,2,3,4,5]):\n",
    "    print(i)"
   ]
  },
  {
   "cell_type": "code",
   "execution_count": null,
   "metadata": {},
   "outputs": [],
   "source": []
  }
 ],
 "metadata": {
  "kernelspec": {
   "display_name": "Python 3",
   "language": "python",
   "name": "python3"
  },
  "language_info": {
   "codemirror_mode": {
    "name": "ipython",
    "version": 3
   },
   "file_extension": ".py",
   "mimetype": "text/x-python",
   "name": "python",
   "nbconvert_exporter": "python",
   "pygments_lexer": "ipython3",
   "version": "3.6.5"
  }
 },
 "nbformat": 4,
 "nbformat_minor": 2
}
