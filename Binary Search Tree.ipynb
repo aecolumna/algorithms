{
 "cells": [
  {
   "cell_type": "markdown",
   "metadata": {},
   "source": [
    "## Binary Search Tree Implementation"
   ]
  },
  {
   "cell_type": "code",
   "execution_count": 57,
   "metadata": {},
   "outputs": [],
   "source": [
    "class BST:\n",
    "    \n",
    "    def __init__(self, root=None):\n",
    "        self.root = root\n",
    "        self.size = 0\n",
    "    \n",
    "    def __len__(self):\n",
    "        return self.size\n",
    "    \n",
    "    def __iter__(self):\n",
    "        return root.__iter__()\n",
    "    \n",
    "    def insert(self, node):\n",
    "        if self.root is None:\n",
    "            self.root = node\n",
    "            return\n",
    "            \n",
    "        else:\n",
    "            self.root.insert(node)"
   ]
  },
  {
   "cell_type": "code",
   "execution_count": 58,
   "metadata": {},
   "outputs": [],
   "source": [
    "class Node:\n",
    "    \n",
    "    def __init__(self, key=None, value=None, right=None, left=None, parent = None):\n",
    "        self.key   = key\n",
    "        self.value = value\n",
    "        self.left  = left\n",
    "        self.right = right\n",
    "        self.parent= parent\n",
    "        \n",
    "    def hasLeftChild(self):\n",
    "        return self.left is not None\n",
    "    \n",
    "    def hasRightChild(self):\n",
    "        return self.right is not None\n",
    "    \n",
    "    def isLeaf(self):\n",
    "        return self.left is None and self.right is None\n",
    "    \n",
    "    def isRightChild(self):\n",
    "        return self.parent.right == self\n",
    "    \n",
    "    def isLeftChild(self):\n",
    "        return self.parent.left == self\n",
    "    \n",
    "    def insert(self, node):\n",
    "        if node.key < self.key:\n",
    "            if self.hasLeftChild():\n",
    "                self.left.insert(node)\n",
    "            else:\n",
    "                self.left = node\n",
    "           \n",
    "        elif node.key > self.key:\n",
    "            if self.hasRightChild():\n",
    "                self.right.insert(node)\n",
    "            else:\n",
    "                self.right = node\n",
    "        else:\n",
    "            # replace value\n",
    "            if node.key == self.key:\n",
    "                self.value = node.value\n",
    "                \n",
    "    def __repr__(self):\n",
    "        return str(self.key) + \":\" + str(self.value)"
   ]
  },
  {
   "cell_type": "code",
   "execution_count": 59,
   "metadata": {},
   "outputs": [
    {
     "data": {
      "text/plain": [
       "20:Andres"
      ]
     },
     "execution_count": 59,
     "metadata": {},
     "output_type": "execute_result"
    }
   ],
   "source": [
    "a = Node(20, \"Andres\" )\n",
    "a"
   ]
  },
  {
   "cell_type": "code",
   "execution_count": 60,
   "metadata": {},
   "outputs": [],
   "source": [
    "b = Node(19, \"Gaby\")"
   ]
  },
  {
   "cell_type": "code",
   "execution_count": 61,
   "metadata": {},
   "outputs": [],
   "source": [
    "tree = BST()"
   ]
  },
  {
   "cell_type": "code",
   "execution_count": 62,
   "metadata": {},
   "outputs": [],
   "source": [
    "tree.insert(a)\n"
   ]
  },
  {
   "cell_type": "code",
   "execution_count": 64,
   "metadata": {},
   "outputs": [
    {
     "data": {
      "text/plain": [
       "19:Gaby"
      ]
     },
     "execution_count": 64,
     "metadata": {},
     "output_type": "execute_result"
    }
   ],
   "source": [
    "tree.root.left"
   ]
  },
  {
   "cell_type": "code",
   "execution_count": 63,
   "metadata": {},
   "outputs": [],
   "source": [
    "tree.insert(b)"
   ]
  },
  {
   "cell_type": "code",
   "execution_count": 71,
   "metadata": {},
   "outputs": [],
   "source": [
    "tree.insert(Node(21, \"Mama\"))"
   ]
  },
  {
   "cell_type": "code",
   "execution_count": 66,
   "metadata": {},
   "outputs": [
    {
     "data": {
      "text/plain": [
       "21:Mama"
      ]
     },
     "execution_count": 66,
     "metadata": {},
     "output_type": "execute_result"
    }
   ],
   "source": [
    "tree.root.right"
   ]
  },
  {
   "cell_type": "markdown",
   "metadata": {},
   "source": [
    "### Find longest branch in binary search tree"
   ]
  },
  {
   "cell_type": "code",
   "execution_count": 72,
   "metadata": {},
   "outputs": [],
   "source": [
    "def length(node):\n",
    "    # is Empty\n",
    "    if node is None:\n",
    "        return 0\n",
    "    # is Leaf\n",
    "    if node.left is None and node.right is None:\n",
    "        return 1\n",
    "    \n",
    "    return 1 + max(length(node.left), length(node.right))"
   ]
  },
  {
   "cell_type": "code",
   "execution_count": 73,
   "metadata": {},
   "outputs": [
    {
     "data": {
      "text/plain": [
       "5"
      ]
     },
     "execution_count": 73,
     "metadata": {},
     "output_type": "execute_result"
    }
   ],
   "source": [
    "length(tree.root)"
   ]
  },
  {
   "cell_type": "code",
   "execution_count": null,
   "metadata": {},
   "outputs": [],
   "source": []
  }
 ],
 "metadata": {
  "kernelspec": {
   "display_name": "Python 3",
   "language": "python",
   "name": "python3"
  },
  "language_info": {
   "codemirror_mode": {
    "name": "ipython",
    "version": 3
   },
   "file_extension": ".py",
   "mimetype": "text/x-python",
   "name": "python",
   "nbconvert_exporter": "python",
   "pygments_lexer": "ipython3",
   "version": "3.6.5"
  }
 },
 "nbformat": 4,
 "nbformat_minor": 2
}
