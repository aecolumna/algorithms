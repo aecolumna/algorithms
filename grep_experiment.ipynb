{
 "cells": [
  {
   "cell_type": "code",
   "execution_count": 2,
   "metadata": {},
   "outputs": [],
   "source": [
    "import os"
   ]
  },
  {
   "cell_type": "code",
   "execution_count": 3,
   "metadata": {},
   "outputs": [
    {
     "data": {
      "text/plain": [
       "'C:\\\\Users\\\\Andres'"
      ]
     },
     "execution_count": 3,
     "metadata": {},
     "output_type": "execute_result"
    }
   ],
   "source": [
    "os.getcwd()"
   ]
  },
  {
   "cell_type": "code",
   "execution_count": 4,
   "metadata": {},
   "outputs": [
    {
     "data": {
      "text/plain": [
       "['.gitconfig',\n",
       " '.ipynb_checkpoints',\n",
       " '.ipython',\n",
       " '.jupyter',\n",
       " '3D Objects',\n",
       " 'anaconda3',\n",
       " 'AppData',\n",
       " 'Application Data',\n",
       " 'Contacts',\n",
       " 'Cookies',\n",
       " 'Desktop',\n",
       " 'Documents',\n",
       " 'Downloads',\n",
       " 'Favorites',\n",
       " 'grep_experiment.ipynb',\n",
       " 'IntelGraphicsProfiles',\n",
       " 'Links',\n",
       " 'Local Settings',\n",
       " 'MicrosoftEdgeBackups',\n",
       " 'Music',\n",
       " 'My Documents',\n",
       " 'NetHood',\n",
       " 'NTUSER.DAT',\n",
       " 'ntuser.dat.LOG1',\n",
       " 'ntuser.dat.LOG2',\n",
       " 'NTUSER.DAT{fd9a35db-49fe-11e9-aa2c-248a07783950}.TM.blf',\n",
       " 'NTUSER.DAT{fd9a35db-49fe-11e9-aa2c-248a07783950}.TMContainer00000000000000000001.regtrans-ms',\n",
       " 'NTUSER.DAT{fd9a35db-49fe-11e9-aa2c-248a07783950}.TMContainer00000000000000000002.regtrans-ms',\n",
       " 'ntuser.ini',\n",
       " 'OneDrive',\n",
       " 'Pictures',\n",
       " 'PrintHood',\n",
       " 'Recent',\n",
       " 'Saved Games',\n",
       " 'Searches',\n",
       " 'SendTo',\n",
       " 'Start Menu',\n",
       " 'Templates',\n",
       " 'Untitled.ipynb',\n",
       " 'Videos']"
      ]
     },
     "execution_count": 4,
     "metadata": {},
     "output_type": "execute_result"
    }
   ],
   "source": [
    "os.listdir()"
   ]
  },
  {
   "cell_type": "code",
   "execution_count": 5,
   "metadata": {},
   "outputs": [],
   "source": [
    "os.chdir('Documents/')"
   ]
  },
  {
   "cell_type": "code",
   "execution_count": 6,
   "metadata": {},
   "outputs": [],
   "source": [
    "os.mkdir(\"ipyNotebooks\")"
   ]
  },
  {
   "cell_type": "code",
   "execution_count": 7,
   "metadata": {},
   "outputs": [],
   "source": [
    "os.chdir(\"ipyNotebooks/\")"
   ]
  },
  {
   "cell_type": "code",
   "execution_count": 11,
   "metadata": {},
   "outputs": [],
   "source": [
    "from pathlib import Path"
   ]
  },
  {
   "cell_type": "code",
   "execution_count": 10,
   "metadata": {},
   "outputs": [],
   "source": [
    "Path(os.getcwd() + \"\\\\hello.txt\", )"
   ]
  },
  {
   "cell_type": "code",
   "execution_count": 13,
   "metadata": {},
   "outputs": [
    {
     "data": {
      "text/plain": [
       "'C:\\\\Users\\\\Andres\\\\Documents\\\\ipyNotebooks\\\\hello.txt'"
      ]
     },
     "execution_count": 13,
     "metadata": {},
     "output_type": "execute_result"
    }
   ],
   "source": [
    "os.getcwd() + \"\\\\hello.txt\""
   ]
  },
  {
   "cell_type": "code",
   "execution_count": 34,
   "metadata": {},
   "outputs": [],
   "source": [
    "for i in range(len(sentenceList2)):\n",
    "    with open(\"newfile{}.txt\".format(str(i)) ,'a') as file:\n",
    "        file.write(sentenceList2[i])"
   ]
  },
  {
   "cell_type": "code",
   "execution_count": 31,
   "metadata": {},
   "outputs": [],
   "source": [
    "import re"
   ]
  },
  {
   "cell_type": "code",
   "execution_count": 36,
   "metadata": {},
   "outputs": [
    {
     "name": "stdout",
     "output_type": "stream",
     "text": [
      "newfile0.txt : All this would be unequivocally great news for everyone, were it not for what is happening at the other end—in the factories where those designs are turned into electronic circuits etched on shards of siliconToday’s state-of-the-art is five-nanometre chips (though “5nm” no longer refers to the actual size of transistors as earlier generations did)\n",
      "\n",
      "newfile1.txt :  The ballooning costs of keeping up with advancing technology mean that the explosion of chip designs is being funnelled through a shrinking number of companies capable of actually manufacturing them (see chart 2) Both Samsung and tsmc began churning them out in 2020\n",
      "\n",
      "newfile11.txt :  In its 44-year history Apple has procured microprocessors for its desktops and laptops from mos Technology, Motorola, ibm, and finally Intel The economics of fabs pushes these up higher with every technological advance\n",
      "\n",
      "newfile12.txt :  Soon after the launch of the original iPhone in 2007, however, the firm decided to go it aloneThat matters\n",
      "\n",
      "newfile14.txt :  That approach proved so successful that in 2020 Apple announced that it would replace Intel’s products with tailor-made ones in its immobile Mac computers, too Cars mostly use older, duller semiconductors\n",
      "\n",
      "newfile16.txt :  Amazon claims its chips are up to 40% more cost-efficient than Intel’s But it is crucial: there are some computations that only the most powerful chips can tackle\n",
      "\n",
      "newfile2.txt :  Only three firms in the world are able to make advanced processors: Intel, tsmc, whose home is an earthquake-prone island which China claims as its territory, and Samsung of South Korea, with a nuclear-armed despotic neighbour to the north Their 3nm successors are due in 2022, with 2nm pencilled in a few years later\n",
      "\n",
      "newfile20.txt : Clever startups in the field are securing billion-dollar valuations Tesla, an American maker of electric cars, already relies on tsmc’s 7nm fabs to make its in-house self-driving chips\n",
      "\n",
      "newfile21.txt :  Cerebras, an American firm which designs ai chips, has earned one of $1Asia’s nanoscale duopoly remains fiercely competitive, as Samsung and tsmc keep each other on their toes\n",
      "\n",
      "newfile22.txt : 2bn The Taiwanese firm’s operating margins have been more or less steady since 2005, when 15 other firms were operating at the cutting edge\n",
      "\n",
      "newfile23.txt :  A British rival called Graphcore, which has been working with Microsoft, was valued at $2 But the logical endpoint of the relentless rise in manufacturing costs is that, at some point, one company, in all likelihood tsmc, could be the last advanced fab standing\n",
      "\n",
      "newfile24.txt : 8bn in December For years, says an industry veteran, tech bosses mostly ignored the problem in the hope it would go away\n",
      "\n",
      "newfile25.txt :  On January 13th Qualcomm, a firm best-known for its smartphone chips, paid $1 It has not\n",
      "\n",
      "newfile26.txt : 4bn for Nuvia, a startup staffed by veterans of Apple’s in-house chip-design teamThose worries are sharpened by the industry’s growing political importance\n",
      "\n",
      "newfile28.txt :  General-purpose chips were getting better quickly thanks to Moore’s law, which holds that the number of components that can be crammed into a silicon chip should double every two years or so China has put semiconductors at the core of a multibillion-dollar plan to become self-sufficient in critical technologies by 2025—especially now that American sanctions have deprived it of some foreign imports\n",
      "\n",
      "newfile3.txt :  The Semiconductor Industry Association, an American trade body, reckons that 80% of global chipmaking capacity now resides in AsiaIntel outsideAt the turn of the millennium, a cutting-edge factory might have cost $1bn\n",
      "\n",
      "newfile34.txt : And whereas designing your own chips once meant having to make them as well, that is no longer true In December 17 eu countries agreed to spend tens of billions in post-pandemic stimulus cash to try to create leading-edge factories by the middle of the decade\n",
      "\n",
      "newfile4.txt : The vanguard may soon be down to two A report in 2011 from McKinsey, a firm of management consultants, put the typical cost of an advanced fab at $3bn-4bn\n",
      "\n",
      "newfile5.txt :  Intel, which has pushed the industry’s cutting edge for 30 years, has stumbled More recently, tsmc’s 3nm factory, completed in 2020, in southern Taiwan, cost $19\n",
      "\n",
      "newfile6.txt :  On January 18th news reports suggested that the company (which was due to report its latest quarterly results on January 21st, after The Economist went to press) may begin outsourcing some of its own production to tsmc, which has overtaken it5bn\n",
      "\n",
      "newfile7.txt : And the world economy’s foundational industry looks poised to polarise further, into ever greater effervescence in design and ever more concentrated production The firm is already pondering another for 2nm chips, which will almost certainly be more\n",
      "\n",
      "newfile8.txt :  This new architecture has far-reaching consequences for chipmakers and their customers—which, in this day and age, includes virtually everyone Intel’s stumbles have left it marooned at 10nm—and its boss, Bob Swan, out of a job\n",
      "\n"
     ]
    }
   ],
   "source": [
    "import os\n",
    "import re\n",
    "\n",
    "pattern = re.compile(r\"\\d+\", re.MULTILINE)\n",
    "directory = os.getcwd()\n",
    "\n",
    "for filename in os.listdir(directory):\n",
    "    if filename.endswith(\".txt\"):\n",
    "        with open(os.path.join(directory, filename)) as file:\n",
    "            for line in file:\n",
    "                if pattern.search(line):\n",
    "                    print(filename, \":\", line)\n",
    "                    print()"
   ]
  },
  {
   "cell_type": "code",
   "execution_count": null,
   "metadata": {},
   "outputs": [],
   "source": [
    "from pathlib import Path\n",
    "\n",
    "pathlist = Path(directory_in_str).glob('**/*.asm')\n",
    "for path in pathlist:\n",
    "     # because path is object not string\n",
    "     path_in_str = str(path)\n",
    "     # print(path_in_str)"
   ]
  },
  {
   "cell_type": "code",
   "execution_count": 32,
   "metadata": {},
   "outputs": [],
   "source": [
    "article2 = \"\"\"Today’s state-of-the-art is five-nanometre chips (though “5nm” no longer refers to the actual size of transistors as earlier generations did). Both Samsung and tsmc began churning them out in 2020. Their 3nm successors are due in 2022, with 2nm pencilled in a few years later.\n",
    "\n",
    "Intel outside\n",
    "At the turn of the millennium, a cutting-edge factory might have cost $1bn. A report in 2011 from McKinsey, a firm of management consultants, put the typical cost of an advanced fab at $3bn-4bn. More recently, tsmc’s 3nm factory, completed in 2020, in southern Taiwan, cost $19.5bn. The firm is already pondering another for 2nm chips, which will almost certainly be more. Intel’s stumbles have left it marooned at 10nm—and its boss, Bob Swan, out of a job. His incoming replacement, Pat Gelsinger, will need to decide if the company, which, unlike tsmc, also designs its chips, wants to keep making them. Potential new entrants face enormous barriers to entry. The economics of fabs pushes these up higher with every technological advance.\n",
    "\n",
    "That matters. Not all chipmaking requires cutting-edge technology. Cars mostly use older, duller semiconductors. Miniaturisation may seem less of an imperative in roomy data centres. But it is crucial: there are some computations that only the most powerful chips can tackle.\n",
    "\n",
    "And demand for these is likely to grow as silicon infuses products from thermostats to tractors in the uber-connected “Internet of Things”. Between them tsmc and Samsung customers are already a “Who’s Who” of big tech—Apple, Amazon, Google, Nvidia, Qualcomm (and soon, if the news reports are true, Intel itself). As things like cars become more computerised and go electric (see article), the chips that go into them will become more advanced, too. Tesla, an American maker of electric cars, already relies on tsmc’s 7nm fabs to make its in-house self-driving chips.\n",
    "\n",
    "Asia’s nanoscale duopoly remains fiercely competitive, as Samsung and tsmc keep each other on their toes. The Taiwanese firm’s operating margins have been more or less steady since 2005, when 15 other firms were operating at the cutting edge. But the logical endpoint of the relentless rise in manufacturing costs is that, at some point, one company, in all likelihood tsmc, could be the last advanced fab standing. For years, says an industry veteran, tech bosses mostly ignored the problem in the hope it would go away. It has not.\n",
    "\n",
    "Those worries are sharpened by the industry’s growing political importance. As part of its economic war against China, America has sought to deny Chinese firms the ability to build leading-edge chip factories of their own. China has put semiconductors at the core of a multibillion-dollar plan to become self-sufficient in critical technologies by 2025—especially now that American sanctions have deprived it of some foreign imports.\n",
    "\n",
    "The structural forces behind increased concentration are here to stay. America, worried about losing access to the most advanced factories, has given handouts to tsmc in return for a fab in Arizona. Samsung may expand the one it runs in Texas. Another package of subsidies and incentives is awaiting funding from Congress. The European Union, which has pockets of high technology in Belgium and the Netherlands, wants more of them. In December 17 eu countries agreed to spend tens of billions in post-pandemic stimulus cash to try to create leading-edge factories by the middle of the decade. The chip industry’s history suggests these sums will only get more eye-watering with time.\"\"\""
   ]
  },
  {
   "cell_type": "code",
   "execution_count": 33,
   "metadata": {},
   "outputs": [],
   "source": [
    "article2 = article2.replace(\"\\n\", \"\")\n",
    "sentenceList2 = article2.split('.')"
   ]
  },
  {
   "cell_type": "code",
   "execution_count": null,
   "metadata": {},
   "outputs": [],
   "source": [
    "a"
   ]
  },
  {
   "cell_type": "code",
   "execution_count": 27,
   "metadata": {},
   "outputs": [
    {
     "data": {
      "text/plain": [
       "41"
      ]
     },
     "execution_count": 27,
     "metadata": {},
     "output_type": "execute_result"
    }
   ],
   "source": [
    "len(sentenceList)"
   ]
  },
  {
   "cell_type": "code",
   "execution_count": null,
   "metadata": {},
   "outputs": [],
   "source": []
  }
 ],
 "metadata": {
  "kernelspec": {
   "display_name": "Python 3",
   "language": "python",
   "name": "python3"
  },
  "language_info": {
   "codemirror_mode": {
    "name": "ipython",
    "version": 3
   },
   "file_extension": ".py",
   "mimetype": "text/x-python",
   "name": "python",
   "nbconvert_exporter": "python",
   "pygments_lexer": "ipython3",
   "version": "3.8.3"
  }
 },
 "nbformat": 4,
 "nbformat_minor": 4
}
