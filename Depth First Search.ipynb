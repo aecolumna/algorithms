{
 "cells": [
  {
   "cell_type": "code",
   "execution_count": 1,
   "metadata": {
    "collapsed": true
   },
   "outputs": [],
   "source": [
    "class Vertex:\n",
    "    def __init__(self, name=\"\"):\n",
    "        self.level = 0\n",
    "        self.name = name\n",
    "        self.neighbors = []\n",
    "        self.visited = False\n",
    "        self.parent = None\n",
    "        \n",
    "    def add_neighbor(self, neighbor):\n",
    "        if neighbor not in self.neighbors:\n",
    "            self.neighbors.append(neighbor)\n",
    "            \n",
    "    def __repr__(self):\n",
    "        return str(self.name)"
   ]
  },
  {
   "cell_type": "code",
   "execution_count": 2,
   "metadata": {
    "collapsed": true
   },
   "outputs": [],
   "source": [
    "a = Vertex(\"a\")\n",
    "b = Vertex(\"b\")\n",
    "c = Vertex(\"c\")\n",
    "d = Vertex(\"d\")\n",
    "e = Vertex(\"e\")\n",
    "f = Vertex(\"f\")\n",
    "g = Vertex(\"g\")\n",
    "h = Vertex(\"h\")\n",
    "ii = Vertex(\"ii\")\n",
    "j = Vertex(\"j\")\n",
    "\n",
    "a.add_neighbor(f)\n",
    "f.add_neighbor(a)\n",
    "b.add_neighbor(g)\n",
    "g.add_neighbor(b)\n",
    "b.add_neighbor(g)\n",
    "g.add_neighbor(b)\n",
    "c.add_neighbor(h)\n",
    "h.add_neighbor(c)\n",
    "c.add_neighbor(ii)\n",
    "ii.add_neighbor(c)\n",
    "d.add_neighbor(j)\n",
    "j.add_neighbor(d)\n",
    "f.add_neighbor(b)\n",
    "b.add_neighbor(f)\n",
    "f.add_neighbor(c)\n",
    "c.add_neighbor(f)\n",
    "g.add_neighbor(e)\n",
    "e.add_neighbor(g)\n",
    "g.add_neighbor(ii)\n",
    "ii.add_neighbor(g)\n",
    "g.add_neighbor(j)\n",
    "j.add_neighbor(g)\n",
    "h.add_neighbor(c)\n",
    "c.add_neighbor(h)\n",
    "h.add_neighbor(g)\n",
    "g.add_neighbor(h)\n",
    "h.add_neighbor(ii)\n",
    "ii.add_neighbor(h)\n",
    "h.add_neighbor(j)\n",
    "j.add_neighbor(h)"
   ]
  },
  {
   "cell_type": "markdown",
   "metadata": {},
   "source": [
    "![image.png](https://cdn.pbrd.co/images/HtOrLE6.png)"
   ]
  },
  {
   "cell_type": "code",
   "execution_count": 7,
   "metadata": {
    "collapsed": true
   },
   "outputs": [],
   "source": [
    "dic = {\"a\": \"andres\"}\n",
    "\n",
    "    "
   ]
  },
  {
   "cell_type": "code",
   "execution_count": 21,
   "metadata": {
    "collapsed": true
   },
   "outputs": [],
   "source": [
    "parent = {}\n",
    "parent[v] = None\n",
    "v.parent = None\n",
    "\n",
    "def dfs_visit(v, dest):\n",
    "    if v == dest:\n",
    "        return\n",
    "    if not parent: # if parent dictionary is empty\n",
    "        parent[v] = None\n",
    "        v.parent = None\n",
    "    for neighbor in v.neighbors:\n",
    "        if neighbor not in parent:\n",
    "            parent[neighbor] = v \n",
    "            neighbor.parent = v\n",
    "            dfs_visit(neighbor, dest)"
   ]
  },
  {
   "cell_type": "code",
   "execution_count": 22,
   "metadata": {
    "collapsed": true
   },
   "outputs": [],
   "source": [
    "dfs_visit(d,a)"
   ]
  },
  {
   "cell_type": "code",
   "execution_count": 23,
   "metadata": {},
   "outputs": [
    {
     "data": {
      "text/plain": [
       "{d: None, j: d, g: j, b: g, f: b, a: f, c: f, h: c, ii: h, e: g}"
      ]
     },
     "execution_count": 23,
     "metadata": {},
     "output_type": "execute_result"
    }
   ],
   "source": [
    "parent"
   ]
  },
  {
   "cell_type": "markdown",
   "metadata": {},
   "source": [
    "## Shortest Path"
   ]
  },
  {
   "cell_type": "code",
   "execution_count": 26,
   "metadata": {},
   "outputs": [
    {
     "name": "stdout",
     "output_type": "stream",
     "text": [
      "a\n",
      "f\n",
      "b\n",
      "g\n",
      "j\n",
      "d\n"
     ]
    }
   ],
   "source": [
    "vert = a\n",
    "while vert != d:\n",
    "    print(vert)\n",
    "    vert = vert.parent\n",
    "print(vert)"
   ]
  },
  {
   "cell_type": "code",
   "execution_count": null,
   "metadata": {},
   "outputs": [],
   "source": []
  }
 ],
 "metadata": {
  "kernelspec": {
   "display_name": "Python 3",
   "language": "python",
   "name": "python3"
  },
  "language_info": {
   "codemirror_mode": {
    "name": "ipython",
    "version": 3
   },
   "file_extension": ".py",
   "mimetype": "text/x-python",
   "name": "python",
   "nbconvert_exporter": "python",
   "pygments_lexer": "ipython3",
   "version": "3.6.5"
  }
 },
 "nbformat": 4,
 "nbformat_minor": 2
}
