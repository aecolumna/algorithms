{
 "cells": [
  {
   "cell_type": "markdown",
   "metadata": {},
   "source": [
    "count[\"USA\", \"USA\", \"Egypt\", \"Dominican Rep...\", \"USA\", \"USA\", \"Spain\", \\\n",
    "\"USA\", \"USA\", \"Canada\", \"Croatia\", \"USA\", \"Australia\", \"USA\", \\\n",
    "\"Australia\", \"Croatia\", \"USA\", \"USA\", \"\", \"USA\", \"USA\", \"USA\", \"USA\", \\\n",
    "\"USA\", \"Turkey\", \"Mali\", \"USA\", \"USA\", \"Switzerland\", \"USA\", \\\n",
    "\"Canada\", \"USA\", \"USA\", \"USA\", \"USA\", \"Australia\", \"Croatia\", \"USA\", \\\n",
    "\"USA\", \"USA\", \"USA\", \"Latvia\", \"USA\", \"USA\", \"USA\", \"USA\", \"USA\", \\\n",
    "\"USA\", \"USA\", \"Lithuania\", \"USA\", \"USA\", \"USA\", \"USA\", \"USA\", \"USA\", \\\n",
    "\"USA\", \"USA\", \"USA\", \"Turkey\", \"USA\", \"USA\", \"Turkey\", \"USA\", \"USA\", \\\n",
    "\"Greece\", \"USA\", \"Slovenia\", \"Senegal\", \"USA\", \"France\", \"USA\", \\\n",
    "\"USA\", \"France\", \"USA\", \"USA\", \"USA\", \"USA\", \"USA\", \"USA\", \"Austria\", \\\n",
    "\"USA\", \"USA\", \"USA\", \"USA\", \"USA\", \"USA\", \"USA\", \"USA\", \"USA\", \"USA\", \\\n",
    "\"USA\", \"USA\", \"Australia\", \"USA\", \"USA\", \"Cameroon\", \"France\", \"USA\", \\\n",
    "\"USA\", \"Sweden\", \"Lithuania\", \"USA\", \"USA\", \"USA\", \"Spain\", \"USA\", \\\n",
    "\"USA\", \"USA\", \"USA\", \"USA\", \"Bosnia & Herz...\", \"USA\", \"Canada\", \\\n",
    "\"USA\", \"USA\", \"USA\", \"USA\", \"USA\", \"USA\", \"USA\", \"USA\", \"USA\", \"USA\", \\\n",
    "\"USA\", \"USA\", \"USA\", \"USA\", \"Cameroon\", \"Brazil\", \"USA\", \"USA\", \\\n",
    "\"Argentina\", \"Poland\", \"Italy\", \"USA\", \"USA\", \"USA\", \"USA\", \"USA\", \\\n",
    "\"Australia\", \"USA\", \"USA\", \"USA\", \"USA\", \"Serbia\", \"Brazil\", \"USA\", \\\n",
    "\"Montenegro\", \"USA\", \"United Kingdo...\", \"USA\", \"USA\", \"Cameroon\", \\\n",
    "\"USA\", \"USA\", \"USA\", \"Australia\", \"Spain\", \"USA\", \"USA\", \"USA\", \\\n",
    "\"Brazil\", \"USA\", \"USA\", \"Spain\", \"USA\", \"USA\", \"USA\", \"USA\", \"USA\", \\\n",
    "\"France\", \"USA\", \"USA\", \"USA\", \"Democratic Re...\", \"USA\", \"USA\", \\\n",
    "\"USA\", \"USA\", \"USA\", \"USA\", \"USA\", \"New Zealand\", \"USA\", \"USA\", \\\n",
    "\"USA\", \"USA\", \"USA\", \"USA\", \"USA\", \"South Sudan\", \"USA\", \"Czech \\\n",
    "Republi...\", \"USA\", \"France\", \"USA\", \"USA\", \"USA\", \"Canada\", \"USA\", \\\n",
    "\"USA\", \"USA\", \"USA\", \"USA\", \"USA\", \"USA\", \"USA\", \"Georgia\", \"China\"]"
   ]
  },
  {
   "cell_type": "code",
   "execution_count": 1,
   "metadata": {
    "collapsed": true
   },
   "outputs": [],
   "source": [
    "countries = [\"USA\", \"USA\", \"Egypt\", \"Dominican Rep...\", \"USA\", \"USA\", \"Spain\", \\\n",
    "\"USA\", \"USA\", \"Canada\", \"Croatia\", \"USA\", \"Australia\", \"USA\", \\\n",
    "\"Australia\", \"Croatia\", \"USA\", \"USA\", \"\", \"USA\", \"USA\", \"USA\", \"USA\", \\\n",
    "\"USA\", \"Turkey\", \"Mali\", \"USA\", \"USA\", \"Switzerland\", \"USA\", \\\n",
    "\"Canada\", \"USA\", \"USA\", \"USA\", \"USA\", \"Australia\", \"Croatia\", \"USA\", \\\n",
    "\"USA\", \"USA\", \"USA\", \"Latvia\", \"USA\", \"USA\", \"USA\", \"USA\", \"USA\", \\\n",
    "\"USA\", \"USA\", \"Lithuania\", \"USA\", \"USA\", \"USA\", \"USA\", \"USA\", \"USA\", \\\n",
    "\"USA\", \"USA\", \"USA\", \"Turkey\", \"USA\", \"USA\", \"Turkey\", \"USA\", \"USA\", \\\n",
    "\"Greece\", \"USA\", \"Slovenia\", \"Senegal\", \"USA\", \"France\", \"USA\", \\\n",
    "\"USA\", \"France\", \"USA\", \"USA\", \"USA\", \"USA\", \"USA\", \"USA\", \"Austria\", \\\n",
    "\"USA\", \"USA\", \"USA\", \"USA\", \"USA\", \"USA\", \"USA\", \"USA\", \"USA\", \"USA\", \\\n",
    "\"USA\", \"USA\", \"Australia\", \"USA\", \"USA\", \"Cameroon\", \"France\", \"USA\", \\\n",
    "\"USA\", \"Sweden\", \"Lithuania\", \"USA\", \"USA\", \"USA\", \"Spain\", \"USA\", \\\n",
    "\"USA\", \"USA\", \"USA\", \"USA\", \"Bosnia & Herz...\", \"USA\", \"Canada\", \\\n",
    "\"USA\", \"USA\", \"USA\", \"USA\", \"USA\", \"USA\", \"USA\", \"USA\", \"USA\", \"USA\", \\\n",
    "\"USA\", \"USA\", \"USA\", \"USA\", \"Cameroon\", \"Brazil\", \"USA\", \"USA\", \\\n",
    "\"Argentina\", \"Poland\", \"Italy\", \"USA\", \"USA\", \"USA\", \"USA\", \"USA\", \\\n",
    "\"Australia\", \"USA\", \"USA\", \"USA\", \"USA\", \"Serbia\", \"Brazil\", \"USA\", \\\n",
    "\"Montenegro\", \"USA\", \"United Kingdo...\", \"USA\", \"USA\", \"Cameroon\", \\\n",
    "\"USA\", \"USA\", \"USA\", \"Australia\", \"Spain\", \"USA\", \"USA\", \"USA\", \\\n",
    "\"Brazil\", \"USA\", \"USA\", \"Spain\", \"USA\", \"USA\", \"USA\", \"USA\", \"USA\", \\\n",
    "\"France\", \"USA\", \"USA\", \"USA\", \"Democratic Re...\", \"USA\", \"USA\", \\\n",
    "\"USA\", \"USA\", \"USA\", \"USA\", \"USA\", \"New Zealand\", \"USA\", \"USA\", \\\n",
    "\"USA\", \"USA\", \"USA\", \"USA\", \"USA\", \"South Sudan\", \"USA\", \"Czech \\\n",
    "Republi...\", \"USA\", \"France\", \"USA\", \"USA\", \"USA\", \"Canada\", \"USA\", \\\n",
    "\"USA\", \"USA\", \"USA\", \"USA\", \"USA\", \"USA\", \"USA\", \"Georgia\", \"China\"]"
   ]
  },
  {
   "cell_type": "code",
   "execution_count": 2,
   "metadata": {},
   "outputs": [
    {
     "data": {
      "text/plain": [
       "['USA',\n",
       " 'USA',\n",
       " 'Egypt',\n",
       " 'Dominican Rep...',\n",
       " 'USA',\n",
       " 'USA',\n",
       " 'Spain',\n",
       " 'USA',\n",
       " 'USA',\n",
       " 'Canada',\n",
       " 'Croatia',\n",
       " 'USA',\n",
       " 'Australia',\n",
       " 'USA',\n",
       " 'Australia',\n",
       " 'Croatia',\n",
       " 'USA',\n",
       " 'USA',\n",
       " '',\n",
       " 'USA',\n",
       " 'USA',\n",
       " 'USA',\n",
       " 'USA',\n",
       " 'USA',\n",
       " 'Turkey',\n",
       " 'Mali',\n",
       " 'USA',\n",
       " 'USA',\n",
       " 'Switzerland',\n",
       " 'USA',\n",
       " 'Canada',\n",
       " 'USA',\n",
       " 'USA',\n",
       " 'USA',\n",
       " 'USA',\n",
       " 'Australia',\n",
       " 'Croatia',\n",
       " 'USA',\n",
       " 'USA',\n",
       " 'USA',\n",
       " 'USA',\n",
       " 'Latvia',\n",
       " 'USA',\n",
       " 'USA',\n",
       " 'USA',\n",
       " 'USA',\n",
       " 'USA',\n",
       " 'USA',\n",
       " 'USA',\n",
       " 'Lithuania',\n",
       " 'USA',\n",
       " 'USA',\n",
       " 'USA',\n",
       " 'USA',\n",
       " 'USA',\n",
       " 'USA',\n",
       " 'USA',\n",
       " 'USA',\n",
       " 'USA',\n",
       " 'Turkey',\n",
       " 'USA',\n",
       " 'USA',\n",
       " 'Turkey',\n",
       " 'USA',\n",
       " 'USA',\n",
       " 'Greece',\n",
       " 'USA',\n",
       " 'Slovenia',\n",
       " 'Senegal',\n",
       " 'USA',\n",
       " 'France',\n",
       " 'USA',\n",
       " 'USA',\n",
       " 'France',\n",
       " 'USA',\n",
       " 'USA',\n",
       " 'USA',\n",
       " 'USA',\n",
       " 'USA',\n",
       " 'USA',\n",
       " 'Austria',\n",
       " 'USA',\n",
       " 'USA',\n",
       " 'USA',\n",
       " 'USA',\n",
       " 'USA',\n",
       " 'USA',\n",
       " 'USA',\n",
       " 'USA',\n",
       " 'USA',\n",
       " 'USA',\n",
       " 'USA',\n",
       " 'USA',\n",
       " 'Australia',\n",
       " 'USA',\n",
       " 'USA',\n",
       " 'Cameroon',\n",
       " 'France',\n",
       " 'USA',\n",
       " 'USA',\n",
       " 'Sweden',\n",
       " 'Lithuania',\n",
       " 'USA',\n",
       " 'USA',\n",
       " 'USA',\n",
       " 'Spain',\n",
       " 'USA',\n",
       " 'USA',\n",
       " 'USA',\n",
       " 'USA',\n",
       " 'USA',\n",
       " 'Bosnia & Herz...',\n",
       " 'USA',\n",
       " 'Canada',\n",
       " 'USA',\n",
       " 'USA',\n",
       " 'USA',\n",
       " 'USA',\n",
       " 'USA',\n",
       " 'USA',\n",
       " 'USA',\n",
       " 'USA',\n",
       " 'USA',\n",
       " 'USA',\n",
       " 'USA',\n",
       " 'USA',\n",
       " 'USA',\n",
       " 'USA',\n",
       " 'Cameroon',\n",
       " 'Brazil',\n",
       " 'USA',\n",
       " 'USA',\n",
       " 'Argentina',\n",
       " 'Poland',\n",
       " 'Italy',\n",
       " 'USA',\n",
       " 'USA',\n",
       " 'USA',\n",
       " 'USA',\n",
       " 'USA',\n",
       " 'Australia',\n",
       " 'USA',\n",
       " 'USA',\n",
       " 'USA',\n",
       " 'USA',\n",
       " 'Serbia',\n",
       " 'Brazil',\n",
       " 'USA',\n",
       " 'Montenegro',\n",
       " 'USA',\n",
       " 'United Kingdo...',\n",
       " 'USA',\n",
       " 'USA',\n",
       " 'Cameroon',\n",
       " 'USA',\n",
       " 'USA',\n",
       " 'USA',\n",
       " 'Australia',\n",
       " 'Spain',\n",
       " 'USA',\n",
       " 'USA',\n",
       " 'USA',\n",
       " 'Brazil',\n",
       " 'USA',\n",
       " 'USA',\n",
       " 'Spain',\n",
       " 'USA',\n",
       " 'USA',\n",
       " 'USA',\n",
       " 'USA',\n",
       " 'USA',\n",
       " 'France',\n",
       " 'USA',\n",
       " 'USA',\n",
       " 'USA',\n",
       " 'Democratic Re...',\n",
       " 'USA',\n",
       " 'USA',\n",
       " 'USA',\n",
       " 'USA',\n",
       " 'USA',\n",
       " 'USA',\n",
       " 'USA',\n",
       " 'New Zealand',\n",
       " 'USA',\n",
       " 'USA',\n",
       " 'USA',\n",
       " 'USA',\n",
       " 'USA',\n",
       " 'USA',\n",
       " 'USA',\n",
       " 'South Sudan',\n",
       " 'USA',\n",
       " 'Czech Republi...',\n",
       " 'USA',\n",
       " 'France',\n",
       " 'USA',\n",
       " 'USA',\n",
       " 'USA',\n",
       " 'Canada',\n",
       " 'USA',\n",
       " 'USA',\n",
       " 'USA',\n",
       " 'USA',\n",
       " 'USA',\n",
       " 'USA',\n",
       " 'USA',\n",
       " 'USA',\n",
       " 'Georgia',\n",
       " 'China']"
      ]
     },
     "execution_count": 2,
     "metadata": {},
     "output_type": "execute_result"
    }
   ],
   "source": [
    "countries"
   ]
  },
  {
   "cell_type": "code",
   "execution_count": 15,
   "metadata": {
    "collapsed": true
   },
   "outputs": [],
   "source": [
    "d=_5"
   ]
  },
  {
   "cell_type": "code",
   "execution_count": 16,
   "metadata": {},
   "outputs": [
    {
     "data": {
      "text/plain": [
       "153"
      ]
     },
     "execution_count": 16,
     "metadata": {},
     "output_type": "execute_result"
    }
   ],
   "source": [
    "d[\"USA\"]"
   ]
  },
  {
   "cell_type": "code",
   "execution_count": 5,
   "metadata": {},
   "outputs": [
    {
     "data": {
      "text/plain": [
       "Counter({'': 1,\n",
       "         'Argentina': 1,\n",
       "         'Australia': 6,\n",
       "         'Austria': 1,\n",
       "         'Bosnia & Herz...': 1,\n",
       "         'Brazil': 3,\n",
       "         'Cameroon': 3,\n",
       "         'Canada': 4,\n",
       "         'China': 1,\n",
       "         'Croatia': 3,\n",
       "         'Czech Republi...': 1,\n",
       "         'Democratic Re...': 1,\n",
       "         'Dominican Rep...': 1,\n",
       "         'Egypt': 1,\n",
       "         'France': 5,\n",
       "         'Georgia': 1,\n",
       "         'Greece': 1,\n",
       "         'Italy': 1,\n",
       "         'Latvia': 1,\n",
       "         'Lithuania': 2,\n",
       "         'Mali': 1,\n",
       "         'Montenegro': 1,\n",
       "         'New Zealand': 1,\n",
       "         'Poland': 1,\n",
       "         'Senegal': 1,\n",
       "         'Serbia': 1,\n",
       "         'Slovenia': 1,\n",
       "         'South Sudan': 1,\n",
       "         'Spain': 4,\n",
       "         'Sweden': 1,\n",
       "         'Switzerland': 1,\n",
       "         'Turkey': 3,\n",
       "         'USA': 153,\n",
       "         'United Kingdo...': 1})"
      ]
     },
     "execution_count": 5,
     "metadata": {},
     "output_type": "execute_result"
    }
   ],
   "source": [
    "Counter(countries)"
   ]
  },
  {
   "cell_type": "code",
   "execution_count": 6,
   "metadata": {
    "collapsed": true
   },
   "outputs": [],
   "source": [
    "europe_set = set()"
   ]
  },
  {
   "cell_type": "code",
   "execution_count": 7,
   "metadata": {
    "collapsed": true
   },
   "outputs": [],
   "source": [
    "europe_set.add(\"France\")"
   ]
  },
  {
   "cell_type": "code",
   "execution_count": 8,
   "metadata": {
    "collapsed": true
   },
   "outputs": [],
   "source": [
    "europe_set.add(\"Spain\")"
   ]
  },
  {
   "cell_type": "code",
   "execution_count": 10,
   "metadata": {},
   "outputs": [],
   "source": [
    "europe_set.add(\"Serbia\")"
   ]
  },
  {
   "cell_type": "code",
   "execution_count": 11,
   "metadata": {
    "collapsed": true
   },
   "outputs": [],
   "source": [
    "europe_set.add(\"Switzerland\")"
   ]
  },
  {
   "cell_type": "code",
   "execution_count": 12,
   "metadata": {
    "collapsed": true
   },
   "outputs": [],
   "source": [
    "europe_set.add(\"Lithuania\")"
   ]
  },
  {
   "cell_type": "code",
   "execution_count": 13,
   "metadata": {
    "collapsed": true
   },
   "outputs": [],
   "source": [
    "europe_set.add(\"Slovenia\")"
   ]
  },
  {
   "cell_type": "code",
   "execution_count": 14,
   "metadata": {
    "collapsed": true
   },
   "outputs": [],
   "source": [
    "europe_set.add(\"Poland\")"
   ]
  },
  {
   "cell_type": "code",
   "execution_count": null,
   "metadata": {
    "collapsed": true
   },
   "outputs": [],
   "source": []
  }
 ],
 "metadata": {
  "kernelspec": {
   "display_name": "Python 3",
   "language": "python",
   "name": "python3"
  },
  "language_info": {
   "codemirror_mode": {
    "name": "ipython",
    "version": 3
   },
   "file_extension": ".py",
   "mimetype": "text/x-python",
   "name": "python",
   "nbconvert_exporter": "python",
   "pygments_lexer": "ipython3",
   "version": "3.6.3"
  }
 },
 "nbformat": 4,
 "nbformat_minor": 2
}
