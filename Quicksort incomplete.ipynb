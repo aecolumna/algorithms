{
 "cells": [
  {
   "cell_type": "code",
   "execution_count": null,
   "metadata": {
    "collapsed": true
   },
   "outputs": [],
   "source": []
  },
  {
   "cell_type": "code",
   "execution_count": 10,
   "metadata": {
    "collapsed": true
   },
   "outputs": [],
   "source": [
    "\n",
    "def partition(arr, left, right):\n",
    "    import random\n",
    "    pivot = arr[random.randint(left, right)]\n",
    "    print(arr)\n",
    "    print(pivot)\n",
    "    \n",
    "    li = left\n",
    "    ri = right\n",
    "    \n",
    "    while li < ri:\n",
    "        while arr[li] <= pivot and li < ri:\n",
    "            li += 1\n",
    "        while arr[ri] >= pivot and li < ri:\n",
    "            ri -= 1\n",
    "        if li < ri:\n",
    "            arr[li], arr[ri] = arr[ri], arr[li]\n"
   ]
  },
  {
   "cell_type": "code",
   "execution_count": 12,
   "metadata": {},
   "outputs": [
    {
     "name": "stdout",
     "output_type": "stream",
     "text": [
      "[9, 5, 6, 2, 3]\n",
      "9\n",
      "[9, 5, 6, 2, 3]\n"
     ]
    },
    {
     "data": {
      "text/plain": [
       "[9, 5, 6, 2, 3]"
      ]
     },
     "execution_count": 12,
     "metadata": {},
     "output_type": "execute_result"
    }
   ],
   "source": [
    "arr = [9,5,6,2,3]\n",
    "partition(arr, 0, len(arr)-1)\n",
    "arr"
   ]
  },
  {
   "cell_type": "code",
   "execution_count": 2,
   "metadata": {
    "collapsed": true
   },
   "outputs": [],
   "source": [
    "arr = [9,5,6,2,3]\n",
    "\n",
    "pivot = 3\n",
    "li = 0\n",
    "ri = 4\n",
    "\n",
    "3|5,6,2|9\n",
    "\n",
    "li=1\n",
    "ri=3\n",
    "\n",
    "3,2|6|5,9\n",
    "\n",
    "\n",
    "\n"
   ]
  },
  {
   "cell_type": "code",
   "execution_count": 13,
   "metadata": {},
   "outputs": [
    {
     "name": "stdout",
     "output_type": "stream",
     "text": [
      "[3, 5, 6, 2, 9]\n"
     ]
    },
    {
     "data": {
      "text/plain": [
       "[3, 5, 6, 2, 9]"
      ]
     },
     "execution_count": 13,
     "metadata": {},
     "output_type": "execute_result"
    }
   ],
   "source": [
    "def partition(arr, left, right):\n",
    "    import random\n",
    "    pivot = arr[random.randint(left, right)]\n",
    "\n",
    "    li = left\n",
    "    ri = right\n",
    "\n",
    "    while li < ri:\n",
    "        while arr[li] <= pivot and li < ri:\n",
    "            li += 1\n",
    "        while arr[ri] >= pivot and li < ri:\n",
    "            ri -= 1\n",
    "        if li < ri:\n",
    "            arr[li], arr[ri] = arr[ri], arr[li]\n",
    "\n",
    "    print(arr)\n",
    "\n",
    "arr = [9,5,6,2,3]\n",
    "partition(arr, 0, len(arr)-1)\n",
    "arr"
   ]
  },
  {
   "cell_type": "code",
   "execution_count": 14,
   "metadata": {},
   "outputs": [
    {
     "name": "stdout",
     "output_type": "stream",
     "text": [
      "[3, 2, 6, 5, 9]\n"
     ]
    }
   ],
   "source": [
    "def partition(arr, left, right):\n",
    "    import random\n",
    "    pivot = random.randint(left, right)\n",
    "\n",
    "    li = left\n",
    "    ri = right\n",
    "\n",
    "    while li < ri:\n",
    "        a = arr[li]\n",
    "        b = arr[ri]\n",
    "\n",
    "        while arr[li] < pivot and li < ri:\n",
    "            li += 1\n",
    "        while arr[ri] >= pivot and li < ri:\n",
    "            ri -= 1\n",
    "        if li < ri:\n",
    "            arr[li], arr[ri] = arr[ri], arr[li]\n",
    "            li += 1\n",
    "            ri -=1\n",
    "\n",
    "    print(arr)\n",
    "\n",
    "arr = [9,5,6,2,3]\n",
    "partition(arr, 0, len(arr)-1)"
   ]
  },
  {
   "cell_type": "code",
   "execution_count": null,
   "metadata": {
    "collapsed": true
   },
   "outputs": [],
   "source": [
    "def quicksort(arr, left=0,right=len(arr)-1):\n",
    "    \n",
    "    if right - left <= 1"
   ]
  },
  {
   "cell_type": "code",
   "execution_count": 21,
   "metadata": {
    "collapsed": true
   },
   "outputs": [],
   "source": [
    "def f(x):\n",
    "    print(x)\n",
    "    if x < 1:\n",
    "        return x\n",
    "    else:\n",
    "        return f(x-1) + f(x-2)\n",
    "        "
   ]
  },
  {
   "cell_type": "code",
   "execution_count": 23,
   "metadata": {},
   "outputs": [
    {
     "data": {
      "text/plain": [
       "65"
      ]
     },
     "execution_count": 23,
     "metadata": {},
     "output_type": "execute_result"
    }
   ],
   "source": [
    "ord(\"A\")"
   ]
  },
  {
   "cell_type": "markdown",
   "metadata": {},
   "source": [
    "### no two queens on the same row"
   ]
  },
  {
   "cell_type": "code",
   "execution_count": 38,
   "metadata": {
    "collapsed": true
   },
   "outputs": [],
   "source": [
    "import random\n",
    "\n",
    "board = []\n",
    "for i in range(8):\n",
    "    arr = [random.choice([0,0,0,0,0,0,0,0]) for i in range(8) ] \n",
    "    board.append(arr)"
   ]
  },
  {
   "cell_type": "code",
   "execution_count": 102,
   "metadata": {},
   "outputs": [],
   "source": [
    "board =\n",
    "[[1, 0, 0, 0, 0, 0, 0, 1],\n",
    " [0, 1, 0, 0, 0, 0, 0, 0],\n",
    " [0, 0, 1, 0, 0, 0, 0, 0],\n",
    " [0, 1, 0, 1, 0, 0, 0, 0],\n",
    " [1, 0, 0, 0, 1, 0, 0, 0],\n",
    " [0, 0, 0, 0, 0, 1, 0, 0],\n",
    " [0, 0, 0, 0, 0, 0, 1, 0],\n",
    " [1, 0, 0, 0, 0, 1, 0, 0]]"
   ]
  },
  {
   "cell_type": "code",
   "execution_count": 105,
   "metadata": {
    "collapsed": true
   },
   "outputs": [],
   "source": [
    "def diagonal(row, col, board=board):\n",
    "    rowdim = len(board)\n",
    "    coldim = len(board[0])\n",
    "    \n",
    "    i,j  = row, col\n",
    "\n",
    "    suma = 0\n",
    "    #to avoid counting same spot twice subtract three\n",
    "    # if value is zero, nothing happens\n",
    "    # if value is one, val will be added four times, so subtract three of them\n",
    "    suma = suma - (board[i][j] * 3)\n",
    "    \n",
    "    #up-right\n",
    "    while i < rowdim and j < coldim :\n",
    "        suma += board[i][j] \n",
    "        i, j = i+1,j+1\n",
    "        \n",
    "    #down-left\n",
    "    i,j = row, col #reset for down, left\n",
    "\n",
    "    while i >= 0 and j >= 0:\n",
    "        suma += board[i][j]\n",
    "        i, j = i-1,j-1\n",
    "        \n",
    "    #down-right\n",
    "    i,j = row,col\n",
    "    while i >= 0 and j < coldim:\n",
    "        suma += board[i][j]\n",
    "        i, j = i-1, j+1\n",
    "\n",
    "        \n",
    "    #up-left\n",
    "    i,j = row,col\n",
    "    while i < rowdim and j >= 0:\n",
    "        suma += board[i][j]\n",
    "        i += 1\n",
    "        j -= 1\n",
    "        \n",
    "    print(suma)\n",
    "    return suma"
   ]
  },
  {
   "cell_type": "code",
   "execution_count": 106,
   "metadata": {},
   "outputs": [
    {
     "name": "stdout",
     "output_type": "stream",
     "text": [
      "3\n"
     ]
    },
    {
     "data": {
      "text/plain": [
       "3"
      ]
     },
     "execution_count": 106,
     "metadata": {},
     "output_type": "execute_result"
    }
   ],
   "source": [
    "diagonal(7,5)"
   ]
  },
  {
   "cell_type": "code",
   "execution_count": 75,
   "metadata": {},
   "outputs": [
    {
     "data": {
      "text/plain": [
       "7"
      ]
     },
     "execution_count": 75,
     "metadata": {},
     "output_type": "execute_result"
    }
   ],
   "source": [
    "diagonals(board, 0,0)"
   ]
  },
  {
   "cell_type": "code",
   "execution_count": 44,
   "metadata": {},
   "outputs": [],
   "source": [
    "def check_rows(board, row):\n",
    "    if sum(board[row]) > 1:\n",
    "        return False\n",
    "    return True"
   ]
  },
  {
   "cell_type": "code",
   "execution_count": 47,
   "metadata": {},
   "outputs": [
    {
     "data": {
      "text/plain": [
       "False"
      ]
     },
     "execution_count": 47,
     "metadata": {},
     "output_type": "execute_result"
    }
   ],
   "source": [
    "check_rows(board, 6)"
   ]
  },
  {
   "cell_type": "code",
   "execution_count": 46,
   "metadata": {
    "collapsed": true
   },
   "outputs": [],
   "source": [
    "def check_cols(board, col):\n",
    "    n = 0\n",
    "    for rows in board:\n",
    "        n += board[rows][col]\n",
    "        \n",
    "    if n > 1:\n",
    "        return False\n",
    "    return True"
   ]
  },
  {
   "cell_type": "code",
   "execution_count": 36,
   "metadata": {},
   "outputs": [
    {
     "data": {
      "text/plain": [
       "False"
      ]
     },
     "execution_count": 36,
     "metadata": {},
     "output_type": "execute_result"
    }
   ],
   "source": [
    "lst = [3,4,5,2]\n",
    "1 in lst"
   ]
  },
  {
   "cell_type": "code",
   "execution_count": null,
   "metadata": {
    "collapsed": true
   },
   "outputs": [],
   "source": [
    "[[0, 0, 0, 0, 0, 0, 0, 0],\n",
    " [0, 0, 0, 0, 0, 0, 1, 0],\n",
    " [0, 0, 1, 1, 0, 1, 1, 0],\n",
    " [0, 0, 0, 0, 0, 0, 1, 0],\n",
    " [0, 0, 0, 0, 0, 0, 0, 1],\n",
    " [1, 0, 0, 0, 0, 0, 0, 0],\n",
    " [0, 0, 0, 0, 1, 1, 0, 0],\n",
    " [0, 0, 0, 0, 0, 1, 0, 0]]"
   ]
  }
 ],
 "metadata": {
  "kernelspec": {
   "display_name": "Python 3",
   "language": "python",
   "name": "python3"
  },
  "language_info": {
   "codemirror_mode": {
    "name": "ipython",
    "version": 3
   },
   "file_extension": ".py",
   "mimetype": "text/x-python",
   "name": "python",
   "nbconvert_exporter": "python",
   "pygments_lexer": "ipython3",
   "version": "3.6.5"
  }
 },
 "nbformat": 4,
 "nbformat_minor": 2
}
