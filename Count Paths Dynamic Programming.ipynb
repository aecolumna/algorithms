{
 "cells": [
  {
   "cell_type": "code",
   "execution_count": 1,
   "metadata": {},
   "outputs": [
    {
     "name": "stdout",
     "output_type": "stream",
     "text": [
      "[[78, 0, 0, 0, 0, 0, 0, 0],\n",
      " [78, 78, 78, 56, 34, 18, 7, 1],\n",
      " [0, 0, 22, 22, 16, 11, 6, 1],\n",
      " [0, 0, 0, 6, 5, 5, 5, 1],\n",
      " [0, 0, 0, 1, 0, 0, 4, 1],\n",
      " [0, 0, 0, 1, 0, 0, 3, 1],\n",
      " [0, 0, 0, 1, 0, 0, 2, 1],\n",
      " [0, 0, 0, 1, 1, 1, 1, 0]]\n"
     ]
    }
   ],
   "source": [
    "board = [[0, 1, 0, 0, 0, 0, 0, 0],\n",
    "         [0, 0, 0, 0, 0, 0, 0, 0],\n",
    "         [1, 1, 0, 0, 0, 0, 0, 0],\n",
    "         [0, 0, 1, 0, 0, 0, 0, 0],\n",
    "         [0, 0, 0, 0, 1, 1, 0, 0],\n",
    "         [0, 0, 0, 0, 0, 1, 0, 0],\n",
    "         [0, 0, 0, 0, 1, 0, 0, 0],\n",
    "         [0, 0, 0, 0, 0, 0, 0, 0]]\n",
    "\n",
    "paths = [[0, 0, 0, 0, 0, 0, 0, 0],\n",
    "         [0, 0, 0, 0, 0, 0, 0, 0],\n",
    "         [0, 0, 0, 0, 0, 0, 0, 0],\n",
    "         [0, 0, 0, 0, 0, 0, 0, 0],\n",
    "         [0, 0, 0, 0, 0, 0, 0, 0],\n",
    "         [0, 0, 0, 0, 0, 0, 0, 0],\n",
    "         [0, 0, 0, 0, 0, 0, 0, 0],\n",
    "         [0, 0, 0, 0, 0, 0, 0, 0]]\n",
    "\n",
    "\n",
    "\n",
    "def validSquare(board, row, col):\n",
    "    dimrow = len(board) - 1\n",
    "    dimcol = len(board[0]) - 1\n",
    "\n",
    "    if row > dimrow:\n",
    "        return False\n",
    "\n",
    "    if col > dimcol:\n",
    "        return False\n",
    "\n",
    "    if board[row][col] == 1:\n",
    "        return False\n",
    "\n",
    "    return True\n",
    "\n",
    "\n",
    "\n",
    "\n",
    "def countPaths(board, row, col, paths):\n",
    "    if not validSquare(board, row, col):\n",
    "        return 0\n",
    "\n",
    "    if row == 7 and col == 7:\n",
    "        return 1\n",
    "\n",
    "    if paths[row][col] == 0:\n",
    "        paths[row][col] = countPaths(board, row + 1, col, paths) + countPaths(board, row, col + 1, paths)\n",
    "\n",
    "    return paths[row][col]\n",
    "\n",
    "\n",
    "countPaths(board, 0, 0, paths)\n",
    "\n",
    "from pprint import pprint\n",
    "\n",
    "pprint(paths)"
   ]
  },
  {
   "cell_type": "code",
   "execution_count": 2,
   "metadata": {},
   "outputs": [],
   "source": [
    "def f(lst):\n",
    "    lst.append(5)"
   ]
  },
  {
   "cell_type": "code",
   "execution_count": 3,
   "metadata": {},
   "outputs": [],
   "source": [
    "lst = [1,2,3]"
   ]
  },
  {
   "cell_type": "code",
   "execution_count": 4,
   "metadata": {},
   "outputs": [],
   "source": [
    "f(lst)"
   ]
  },
  {
   "cell_type": "code",
   "execution_count": 5,
   "metadata": {},
   "outputs": [
    {
     "data": {
      "text/plain": [
       "[1, 2, 3, 5]"
      ]
     },
     "execution_count": 5,
     "metadata": {},
     "output_type": "execute_result"
    }
   ],
   "source": [
    "lst"
   ]
  },
  {
   "cell_type": "code",
   "execution_count": null,
   "metadata": {},
   "outputs": [],
   "source": []
  }
 ],
 "metadata": {
  "kernelspec": {
   "display_name": "Python 3",
   "language": "python",
   "name": "python3"
  },
  "language_info": {
   "codemirror_mode": {
    "name": "ipython",
    "version": 3
   },
   "file_extension": ".py",
   "mimetype": "text/x-python",
   "name": "python",
   "nbconvert_exporter": "python",
   "pygments_lexer": "ipython3",
   "version": "3.6.5"
  }
 },
 "nbformat": 4,
 "nbformat_minor": 2
}
