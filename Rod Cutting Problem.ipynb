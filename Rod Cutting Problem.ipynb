{
 "cells": [
  {
   "cell_type": "markdown",
   "metadata": {},
   "source": [
    "## You have a rod of Gold of length \"L.\" The price of the rod varies depending on its length. You want to sell the rod at its maximum possible price, and you are able to cut it in many possible ways. What's the best price you can get, and where would you cut the gold shaft?"
   ]
  },
  {
   "cell_type": "code",
   "execution_count": 26,
   "metadata": {},
   "outputs": [],
   "source": [
    "# one can cut it in pieces of 1 inch or 6 inches\n",
    "from random import randint\n",
    "pricesDict = { i: randint(1, 200) for i in range(100)}"
   ]
  },
  {
   "cell_type": "code",
   "execution_count": null,
   "metadata": {},
   "outputs": [],
   "source": [
    "# base cases\n",
    "\n",
    "# cut of size 0 gives 0\n",
    "# cut of size 1 gives 2\n",
    "\n",
    "\n"
   ]
  },
  {
   "cell_type": "code",
   "execution_count": 13,
   "metadata": {},
   "outputs": [],
   "source": [
    "def cutRod(lenCut, pricesDict):\n",
    "    \n",
    "    if lenCut < 0:\n",
    "        return 0\n",
    "    \n",
    "    if lenCut == 1:\n",
    "        return pricesDict[1]\n",
    "    \n",
    "    maximum = 0\n",
    "    \n",
    "    for i in range(1, lenCut + 1):\n",
    "        maximum = max(maximum, pricesDict[i] + cutRod(lenCut - i, pricesDict))\n",
    "        \n",
    "    return maximum"
   ]
  },
  {
   "cell_type": "code",
   "execution_count": 7,
   "metadata": {},
   "outputs": [
    {
     "data": {
      "text/plain": [
       "[(1, 4), (2, 3), (3, 2), (4, 1), (5, 0)]"
      ]
     },
     "execution_count": 7,
     "metadata": {},
     "output_type": "execute_result"
    }
   ],
   "source": [
    "[(1, 4), (2, 3) ,( 3, 2) ,(4, 1) , (5, 0)]"
   ]
  },
  {
   "cell_type": "code",
   "execution_count": 28,
   "metadata": {},
   "outputs": [
    {
     "data": {
      "text/plain": [
       "3420"
      ]
     },
     "execution_count": 28,
     "metadata": {},
     "output_type": "execute_result"
    }
   ],
   "source": [
    "cutRod(20, pricesDict)"
   ]
  },
  {
   "cell_type": "markdown",
   "metadata": {},
   "source": [
    "### Memoized Version"
   ]
  },
  {
   "cell_type": "code",
   "execution_count": 17,
   "metadata": {},
   "outputs": [],
   "source": [
    "def mCutRod(lenCut, pricesDict, memo):\n",
    "    \n",
    "    if lenCut < 0:\n",
    "        return 0\n",
    "    \n",
    "    if lenCut == 1:\n",
    "        return pricesDict[1]\n",
    "    \n",
    "    if lenCut in memo:\n",
    "        return memo[lenCut]\n",
    "    \n",
    "    maximum = 0\n",
    "    \n",
    "    for i in range(1, lenCut + 1):\n",
    "        maximum = max(maximum, pricesDict[i] + mCutRod(lenCut - i, pricesDict, memo))\n",
    "        \n",
    "    \n",
    "    memo[lenCut] = maximum\n",
    "    return maximum"
   ]
  },
  {
   "cell_type": "code",
   "execution_count": 18,
   "metadata": {},
   "outputs": [
    {
     "data": {
      "text/plain": [
       "10"
      ]
     },
     "execution_count": 18,
     "metadata": {},
     "output_type": "execute_result"
    }
   ],
   "source": [
    "mCutRod(5, pricesDict, {})"
   ]
  },
  {
   "cell_type": "code",
   "execution_count": 30,
   "metadata": {},
   "outputs": [
    {
     "name": "stdout",
     "output_type": "stream",
     "text": [
      "2 s ± 0 ns per loop (mean ± std. dev. of 1 run, 1 loop each)\n"
     ]
    }
   ],
   "source": [
    "%timeit -r1 -n1 cutRod(22, pricesDict)"
   ]
  },
  {
   "cell_type": "code",
   "execution_count": 31,
   "metadata": {},
   "outputs": [
    {
     "name": "stdout",
     "output_type": "stream",
     "text": [
      "195 µs ± 0 ns per loop (mean ± std. dev. of 1 run, 1 loop each)\n"
     ]
    }
   ],
   "source": [
    "%timeit -r1 -n1 mCutRod(22, pricesDict,{})"
   ]
  },
  {
   "cell_type": "code",
   "execution_count": null,
   "metadata": {},
   "outputs": [],
   "source": []
  }
 ],
 "metadata": {
  "kernelspec": {
   "display_name": "Python 3",
   "language": "python",
   "name": "python3"
  },
  "language_info": {
   "codemirror_mode": {
    "name": "ipython",
    "version": 3
   },
   "file_extension": ".py",
   "mimetype": "text/x-python",
   "name": "python",
   "nbconvert_exporter": "python",
   "pygments_lexer": "ipython3",
   "version": "3.6.5"
  }
 },
 "nbformat": 4,
 "nbformat_minor": 2
}
